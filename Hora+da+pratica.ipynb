{
  "nbformat": 4,
  "nbformat_minor": 0,
  "metadata": {
    "colab": {
      "provenance": [],
      "collapsed_sections": [
        "H-IV1oAPPSqK",
        "AuaWh4-d2Itt",
        "eijHQiNU2IZ7"
      ],
      "include_colab_link": true
    },
    "kernelspec": {
      "name": "python3",
      "display_name": "Python 3"
    },
    "language_info": {
      "name": "python"
    }
  },
  "cells": [
    {
      "cell_type": "markdown",
      "metadata": {
        "id": "view-in-github",
        "colab_type": "text"
      },
      "source": [
        "<a href=\"https://colab.research.google.com/github/rafaelgustavofurlan/Python-Scripts/blob/main/Hora%2Bda%2Bpratica.ipynb\" target=\"_parent\"><img src=\"https://colab.research.google.com/assets/colab-badge.svg\" alt=\"Open In Colab\"/></a>"
      ]
    },
    {
      "cell_type": "markdown",
      "source": [
        "# Sobre o notebook\n",
        "\n",
        "A \"hora da prática\" é uma atividade do curso de Python para Data Science da Alura que contém diversos desafios envolvendo os aprendizados de cada aula.\n",
        "\n",
        "O notebook \"hora da pratica\" é um notebook construído com espaço para as células dos desafios propostos no curso, com ele você tem espaço para construir e executar suas soluções"
      ],
      "metadata": {
        "id": "_kwAaQ36gLQ1"
      }
    },
    {
      "cell_type": "markdown",
      "source": [
        "## Aula 1 - Introdução ao Python"
      ],
      "metadata": {
        "id": "Mc-KN0dA0Z83"
      }
    },
    {
      "cell_type": "markdown",
      "source": [
        "### Questão 1\n",
        "\n",
        "Imprima a frase `Escola de Dados da Alura!`"
      ],
      "metadata": {
        "id": "l5eLWf0W0ikn"
      }
    },
    {
      "cell_type": "code",
      "source": [
        "print('Escola de Dados da Alura!')"
      ],
      "metadata": {
        "id": "5pllxJ0h0-yA",
        "colab": {
          "base_uri": "https://localhost:8080/"
        },
        "outputId": "b8280225-642d-4c8c-cfbd-202db915996b"
      },
      "execution_count": null,
      "outputs": [
        {
          "output_type": "stream",
          "name": "stdout",
          "text": [
            "Escola de Dados da Alura!\n"
          ]
        }
      ]
    },
    {
      "cell_type": "markdown",
      "source": [
        "### Questão 2\n",
        "Imprima na tela seu nome e seu sobrenome seguindo a estrutura abaixo:\n",
        "```\n",
        "Nome: [seu nome]\n",
        "Sobrenome: [seu sobrenome]\n",
        "```\n"
      ],
      "metadata": {
        "id": "tQdX90Ue03c7"
      }
    },
    {
      "cell_type": "code",
      "source": [
        "print('Nome: Rafael Gustavo\\n Sobrenome: Furlan')"
      ],
      "metadata": {
        "id": "RVw5iKn20_Ps",
        "colab": {
          "base_uri": "https://localhost:8080/"
        },
        "outputId": "5c41cd9b-545b-4d2d-9449-52573c466a89"
      },
      "execution_count": null,
      "outputs": [
        {
          "output_type": "stream",
          "name": "stdout",
          "text": [
            "Nome: Rafael Gustavo\n",
            " Sobrenome: Furlan\n"
          ]
        }
      ]
    },
    {
      "cell_type": "markdown",
      "source": [
        "### Questão 3\n",
        "Imprima o seu primeiro nome letra a letra. Por exemplo, nome é Mirla, então eu obtenho a seguinte saída:\n",
        "```\n",
        "M\n",
        "I\n",
        "R\n",
        "L\n",
        "A\n",
        "```\n"
      ],
      "metadata": {
        "id": "gfg-aiip03vC"
      }
    },
    {
      "cell_type": "code",
      "source": [
        "print('R\\nA\\nF\\nA\\nE\\nL')"
      ],
      "metadata": {
        "id": "v5bkrgf60_qx",
        "colab": {
          "base_uri": "https://localhost:8080/"
        },
        "outputId": "fa00b27c-6882-4770-fb8c-0d2f41cae1ad"
      },
      "execution_count": null,
      "outputs": [
        {
          "output_type": "stream",
          "name": "stdout",
          "text": [
            "R\n",
            "A\n",
            "F\n",
            "A\n",
            "E\n",
            "L\n"
          ]
        }
      ]
    },
    {
      "cell_type": "markdown",
      "source": [
        "### Questão 4\n",
        "Imprima o dia do seu nascimento em formato `dia mês ano`. Os valores de dia e ano não podem estar entre aspas. O formato deve estar como no exemplo, supondo uma data de aniversário dia 28 de fevereiro de 2003:\n",
        "```\n",
        "28 fevereiro 2003\n",
        "```"
      ],
      "metadata": {
        "id": "oadrJbl704MM"
      }
    },
    {
      "cell_type": "code",
      "source": [
        "print('Data de nascimento: 03 setembro 1990')"
      ],
      "metadata": {
        "id": "cx0KSsrq1ALD",
        "colab": {
          "base_uri": "https://localhost:8080/"
        },
        "outputId": "509c168b-2006-427e-b9cb-d5f1f9c93ba7"
      },
      "execution_count": null,
      "outputs": [
        {
          "output_type": "stream",
          "name": "stdout",
          "text": [
            "Data de nascimento: 03 setembro 1990\n"
          ]
        }
      ]
    },
    {
      "cell_type": "markdown",
      "source": [
        "### Questão 5\n",
        "Imprima em um único print o atual ano que você está fazendo esse curso, o valor do ano deve ser um dado numérico. A saída do print deve ser a seguinte:\n",
        "```\n",
        "Ano atual: [ano]\n",
        "```\n"
      ],
      "metadata": {
        "id": "3RgyMaan04TD"
      }
    },
    {
      "cell_type": "code",
      "execution_count": null,
      "metadata": {
        "id": "UN77EfQ2d36Y",
        "colab": {
          "base_uri": "https://localhost:8080/"
        },
        "outputId": "f4e46815-7d17-48ed-e9a7-e55b26029a02"
      },
      "outputs": [
        {
          "output_type": "stream",
          "name": "stdout",
          "text": [
            "Ano atual: 2024\n"
          ]
        }
      ],
      "source": [
        "print('Ano atual: 2024')"
      ]
    },
    {
      "cell_type": "markdown",
      "source": [
        "## Aula 2 - Manipulando dados no Python"
      ],
      "metadata": {
        "id": "D9e3FqhO1S3X"
      }
    },
    {
      "cell_type": "markdown",
      "source": [
        "### Coleta e amostragem de dados"
      ],
      "metadata": {
        "id": "n6o7C1Ze2cRe"
      }
    },
    {
      "cell_type": "markdown",
      "source": [
        "#### Questão 1\n",
        "Crie um programa que solicite à pessoa usuária digitar seu nome, e imprima “Olá, [nome]!”."
      ],
      "metadata": {
        "id": "sRneWag9PV5Q"
      }
    },
    {
      "cell_type": "code",
      "source": [
        "nome = input('Digite o seu nome: ')\n",
        "print(f'Olá, {nome}!')"
      ],
      "metadata": {
        "id": "dbX1fKqy2HnE",
        "colab": {
          "base_uri": "https://localhost:8080/"
        },
        "outputId": "ab2b5d8f-12af-4f85-b170-7fb0f9958ac4"
      },
      "execution_count": null,
      "outputs": [
        {
          "output_type": "stream",
          "name": "stdout",
          "text": [
            "Digite o seu nome: Rafael\n",
            "Olá, Rafael!\n"
          ]
        }
      ]
    },
    {
      "cell_type": "markdown",
      "source": [
        "#### Questão 2\n",
        "Crie um programa que solicite à pessoa usuária digitar seu nome e idade, e imprima “Olá, [nome], você tem [idade] anos.”."
      ],
      "metadata": {
        "id": "BJ1SznEp70d5"
      }
    },
    {
      "cell_type": "code",
      "source": [
        "nome = input('Digite o seu nome: ')\n",
        "idade = int(input('Digite sua idade: '))\n",
        "print(f'Olá, {nome}, você tem {idade} anos.')"
      ],
      "metadata": {
        "id": "jKz-0Sq8PFkp",
        "colab": {
          "base_uri": "https://localhost:8080/"
        },
        "outputId": "8a63cf96-6d8d-4919-83ff-dcdb9491323c"
      },
      "execution_count": null,
      "outputs": [
        {
          "output_type": "stream",
          "name": "stdout",
          "text": [
            "Digite o seu nome: Rafael\n",
            "Digite sua idade: 33\n",
            "Olá, Rafael, você tem 33 anos.\n"
          ]
        }
      ]
    },
    {
      "cell_type": "markdown",
      "source": [
        "#### Questão 3\n",
        "Crie um programa que solicite à pessoa usuária digitar seu nome, idade e altura em metros, e imprima “Olá, [nome], você tem [idade] anos e mede [altura] metros!”."
      ],
      "metadata": {
        "id": "2T0jNYZt70aa"
      }
    },
    {
      "cell_type": "code",
      "source": [
        "nome = input('Digite o seu nome: ')\n",
        "idade = int(input('Digite sua idade: '))\n",
        "altura = float(input('Digite sua altura: '))\n",
        "print(f'Olá, {nome}, você tem {idade} anos e mede {altura} metros.')"
      ],
      "metadata": {
        "id": "pI4kHNzTPIXh",
        "colab": {
          "base_uri": "https://localhost:8080/"
        },
        "outputId": "eacf0483-ed10-4a79-d285-dbf71d9b4474"
      },
      "execution_count": null,
      "outputs": [
        {
          "output_type": "stream",
          "name": "stdout",
          "text": [
            "Digite o seu nome: Rafael\n",
            "Digite sua idade: 33\n",
            "Digite sua altura: 1.89\n",
            "Olá, Rafael, você tem 33 anos e mede 1.89 metros.\n"
          ]
        }
      ]
    },
    {
      "cell_type": "markdown",
      "source": [
        "### Calculadora com operadores"
      ],
      "metadata": {
        "id": "mEBFwKkC70KP"
      }
    },
    {
      "cell_type": "markdown",
      "source": [
        "#### Questão 1\n",
        "\n",
        "Crie um programa que solicite dois valores numéricos à pessoa usuária e imprima a soma dos dois valores."
      ],
      "metadata": {
        "id": "H-IV1oAPPSqK"
      }
    },
    {
      "cell_type": "code",
      "source": [
        "n1 = int(input('Digite o primeiro numero: '))\n",
        "n2 = int(input('Digite o segundo numero: '))\n",
        "soma = n1 + n2\n",
        "print(soma)"
      ],
      "metadata": {
        "id": "Zb0W84sy8rnp",
        "colab": {
          "base_uri": "https://localhost:8080/"
        },
        "outputId": "bf4e60f2-857b-46ae-8d48-493058006072"
      },
      "execution_count": null,
      "outputs": [
        {
          "output_type": "stream",
          "name": "stdout",
          "text": [
            "Digite o primeiro numero: 3\n",
            "Digite o segundo numero: 4\n",
            "7\n"
          ]
        }
      ]
    },
    {
      "cell_type": "markdown",
      "source": [
        "#### Questão 2\n",
        "Crie um programa que solicite três valores numéricos à pessoa usuária e imprima a soma dos três valores."
      ],
      "metadata": {
        "id": "LUoi2MOu70Em"
      }
    },
    {
      "cell_type": "code",
      "source": [
        "n1 = int(input('Digite o primeiro numero: '))\n",
        "n2 = int(input('Digite o segundo numero: '))\n",
        "n3 = int(input('Digite o terceiro numero: '))\n",
        "soma = n1 + n2 + n3\n",
        "print(soma)"
      ],
      "metadata": {
        "id": "4FYjWyBS8rDm",
        "colab": {
          "base_uri": "https://localhost:8080/"
        },
        "outputId": "08083979-f110-4026-bb71-a76f261a55c6"
      },
      "execution_count": null,
      "outputs": [
        {
          "output_type": "stream",
          "name": "stdout",
          "text": [
            "Digite o primeiro numero: 2\n",
            "Digite o segundo numero: 5\n",
            "Digite o terceiro numero: 25\n",
            "32\n"
          ]
        }
      ]
    },
    {
      "cell_type": "markdown",
      "source": [
        "#### Questão 3\n",
        "Crie um programa que solicite dois valores numéricos à pessoa usuária e imprima a subtração do primeiro pelo o segundo valor."
      ],
      "metadata": {
        "id": "lezGctF07z8i"
      }
    },
    {
      "cell_type": "code",
      "source": [
        "n1 = int(input('Digite o primeiro numero: '))\n",
        "n2 = int(input('Digite o segundo numero: '))\n",
        "subtracao = n1 - n2\n",
        "print(subtracao)"
      ],
      "metadata": {
        "id": "k0GE1z4w8p3J",
        "colab": {
          "base_uri": "https://localhost:8080/"
        },
        "outputId": "2504bb5c-aad2-4bb0-fabe-e66ab8b5e5d7"
      },
      "execution_count": null,
      "outputs": [
        {
          "output_type": "stream",
          "name": "stdout",
          "text": [
            "Digite o primeiro numero: 10\n",
            "Digite o segundo numero: 11\n",
            "-1\n"
          ]
        }
      ]
    },
    {
      "cell_type": "markdown",
      "source": [
        "#### Questão 4\n",
        "\n",
        "Crie um programa que solicite dois valores numéricos à pessoa usuária e imprima a multiplicação dos dois valores.\n"
      ],
      "metadata": {
        "id": "wwMP-dPU7zxW"
      }
    },
    {
      "cell_type": "code",
      "source": [
        "n1 = int(input('Digite o primeiro numero: '))\n",
        "n2 = int(input('Digite o segundo numero: '))\n",
        "multiplicacao = n1 * n2\n",
        "print(multiplicacao)"
      ],
      "metadata": {
        "id": "GzFCVHfp8peZ",
        "colab": {
          "base_uri": "https://localhost:8080/"
        },
        "outputId": "2b3eda0a-9eb0-4cf0-ba95-30ec640f70eb"
      },
      "execution_count": null,
      "outputs": [
        {
          "output_type": "stream",
          "name": "stdout",
          "text": [
            "Digite o primeiro numero: 2\n",
            "Digite o segundo numero: 10\n",
            "20\n"
          ]
        }
      ]
    },
    {
      "cell_type": "markdown",
      "source": [
        "#### Questão 5\n",
        "\n",
        "Crie um programa que solicite dois valores numéricos, um numerador e um denominador, e realize a divisão entre os dois valores. Deixe claro que o valor do denominador não pode ser `0`.\n"
      ],
      "metadata": {
        "id": "9kxyHxUo7zRD"
      }
    },
    {
      "cell_type": "code",
      "source": [
        "n1 = int(input('Digite o numerador: '))\n",
        "n2 = int(input('Digite o denominador: '))\n",
        "divisao = n1/n2\n",
        "print(divisao)"
      ],
      "metadata": {
        "id": "ytJ8l5KH8ozc",
        "colab": {
          "base_uri": "https://localhost:8080/"
        },
        "outputId": "160d664d-ddb6-4316-dce2-af756a5cab46"
      },
      "execution_count": null,
      "outputs": [
        {
          "output_type": "stream",
          "name": "stdout",
          "text": [
            "Digite o numerador: 3\n",
            "Digite o denominador: 2\n",
            "1.5\n"
          ]
        }
      ]
    },
    {
      "cell_type": "markdown",
      "source": [
        "#### Questão 6\n",
        "\n",
        "Crie um programa que solicite dois valores numéricos, um operador e uma potência, e realize a exponenciação entre esses dois valores.\n"
      ],
      "metadata": {
        "id": "zkUSBTQq8Hxt"
      }
    },
    {
      "cell_type": "code",
      "source": [
        "n1 = int(input('Digite o operador: '))\n",
        "n2 = int(input('Digite a potencia: '))\n",
        "potencia = n1**n2\n",
        "print(potencia)"
      ],
      "metadata": {
        "id": "RPj36jq08oZp",
        "colab": {
          "base_uri": "https://localhost:8080/"
        },
        "outputId": "3b77f18b-fd01-4f4a-d7f8-17424a3288d2"
      },
      "execution_count": null,
      "outputs": [
        {
          "output_type": "stream",
          "name": "stdout",
          "text": [
            "Digite o operador: 3\n",
            "Digite a potencia: 3\n",
            "27\n"
          ]
        }
      ]
    },
    {
      "cell_type": "markdown",
      "source": [
        "#### Questão 7\n",
        "Crie um programa que solicite dois valores numéricos, um numerador e um denominador e realize a divisão inteira entre os dois valores. Deixe claro que o valor do denominador não pode ser `0`."
      ],
      "metadata": {
        "id": "yiunIusZ8Huj"
      }
    },
    {
      "cell_type": "code",
      "source": [
        "n1 = int(input('Digite o numerador: '))\n",
        "n2 = int(input('Digite o denominador (não pode ser 0): '))\n",
        "divisao_int = n1//n2\n",
        "print(divisao_int)"
      ],
      "metadata": {
        "id": "UHK8xITf8oCg",
        "colab": {
          "base_uri": "https://localhost:8080/"
        },
        "outputId": "6ed5b174-c74d-4e11-9286-6b6727386d6d"
      },
      "execution_count": null,
      "outputs": [
        {
          "output_type": "stream",
          "name": "stdout",
          "text": [
            "Digite o numerador: 3\n",
            "Digite o denominador (não pode ser 0): 2\n",
            "1\n"
          ]
        }
      ]
    },
    {
      "cell_type": "markdown",
      "source": [
        "#### Questão 8\n",
        "\n",
        "Crie um programa que solicite dois valores numéricos, um numerador e um denominador, e retorne o resto da divisão entre os dois valores. Deixe claro que o valor do denominador não pode ser `0`."
      ],
      "metadata": {
        "id": "z_D_JiLX8Hra"
      }
    },
    {
      "cell_type": "code",
      "source": [
        "n1 = int(input('Digite o numerador: '))\n",
        "n2 = int(input('Digite o denominador (não pode ser 0): '))\n",
        "resto_divisao = n1%n2\n",
        "print(resto_divisao)"
      ],
      "metadata": {
        "id": "EWGJeukO8nqx",
        "colab": {
          "base_uri": "https://localhost:8080/"
        },
        "outputId": "bfe0d79f-cade-460e-f4d6-aeeab110f867"
      },
      "execution_count": null,
      "outputs": [
        {
          "output_type": "stream",
          "name": "stdout",
          "text": [
            "Digite o numerador: 2\n",
            "Digite o denominador (não pode ser 0): 2\n",
            "0\n"
          ]
        }
      ]
    },
    {
      "cell_type": "markdown",
      "source": [
        "#### Questão 9\n",
        "\n",
        "Crie um código que solicita 3 notas de um estudante e imprima a média das notas."
      ],
      "metadata": {
        "id": "RDRajNkU8N8N"
      }
    },
    {
      "cell_type": "code",
      "source": [
        "n1 = float(input('Digite a primeira nota: '))\n",
        "n2 = float(input('Digite a segunda nota: '))\n",
        "n3 = float(input('Digite a terceira nota: '))\n",
        "media_das_notas = (n1+n2+n3)/3\n",
        "print(media_das_notas)"
      ],
      "metadata": {
        "id": "H6F4Ojzt8nSR",
        "colab": {
          "base_uri": "https://localhost:8080/"
        },
        "outputId": "ea9878b7-981b-4f03-d509-d53cd062e986"
      },
      "execution_count": null,
      "outputs": [
        {
          "output_type": "stream",
          "name": "stdout",
          "text": [
            "Digite a primeira nota: 8\n",
            "Digite a segunda nota: 6\n",
            "Digite a terceira nota: 10\n",
            "8.0\n"
          ]
        }
      ]
    },
    {
      "cell_type": "markdown",
      "source": [
        "#### Questão 10\n",
        "\n",
        "Crie um código que calcule e imprima a média ponderada dos números 5, 12, 20 e 15 com pesos respectivamente iguais a 1, 2, 3 e 4."
      ],
      "metadata": {
        "id": "d7fjkne58N21"
      }
    },
    {
      "cell_type": "code",
      "source": [
        " n_1 = 5\n",
        " f_1 = 1\n",
        " n_2 = 12\n",
        " f_2 = 2\n",
        " n_3 = 20\n",
        " f_3 = 3\n",
        " n_4 = 15\n",
        " f_4 = 4\n",
        "\n",
        " numerador_media = (n_1*f_1) + (n_2*f_2) + (n_3*f_3) + (n_4*f_4)\n",
        " denominador_media = n_1 + n_2 + n_3 + n_4\n",
        "\n",
        " media_ponderada = numerador_media/denominador_media\n",
        " print('numerador: ',numerador_media)\n",
        " print('denominador: ',denominador_media)\n",
        " print('media ponderada: ', media_ponderada)\n",
        "\n",
        "\n"
      ],
      "metadata": {
        "id": "fwjoHlV48mkv",
        "colab": {
          "base_uri": "https://localhost:8080/"
        },
        "outputId": "ad4e0651-1125-4eb3-ef25-f5b3d377974a"
      },
      "execution_count": null,
      "outputs": [
        {
          "output_type": "stream",
          "name": "stdout",
          "text": [
            "numerador:  149\n",
            "denominador:  52\n",
            "media ponderada:  2.8653846153846154\n"
          ]
        }
      ]
    },
    {
      "cell_type": "markdown",
      "source": [
        "### Editando textos"
      ],
      "metadata": {
        "id": "GNmbX1OU8N0V"
      }
    },
    {
      "cell_type": "markdown",
      "source": [
        "#### Questão 1\n",
        "\n",
        "Crie uma variável chamada “`frase`” e atribua a ela uma string de sua escolha. Em seguida, imprima a frase na tela."
      ],
      "metadata": {
        "id": "6wZ85mCsRCV0"
      }
    },
    {
      "cell_type": "code",
      "source": [
        " frase = 'Rafael Gustavo Furlan'\n",
        " print(frase)"
      ],
      "metadata": {
        "id": "eRqr_gh-8mFy",
        "colab": {
          "base_uri": "https://localhost:8080/"
        },
        "outputId": "21a7baa7-2fb3-4e19-fe71-b266a9a8509b"
      },
      "execution_count": null,
      "outputs": [
        {
          "output_type": "stream",
          "name": "stdout",
          "text": [
            "Rafael Gustavo Furlan\n"
          ]
        }
      ]
    },
    {
      "cell_type": "markdown",
      "source": [
        "#### Questão 2\n",
        "Crie um código que solicite uma frase e depois imprima a frase na tela."
      ],
      "metadata": {
        "id": "Aac17z-18Nwv"
      }
    },
    {
      "cell_type": "code",
      "source": [
        "frase = str(input('Digite uma frase: '))\n",
        "print(frase)"
      ],
      "metadata": {
        "id": "8zfE2hh98lb0",
        "colab": {
          "base_uri": "https://localhost:8080/"
        },
        "outputId": "2d44ece4-36e4-4bd4-c8b8-b1d1043196bc"
      },
      "execution_count": null,
      "outputs": [
        {
          "output_type": "stream",
          "name": "stdout",
          "text": [
            "Digite uma frase: Hoje vai fazer calor\n",
            "Hoje vai fazer calor\n"
          ]
        }
      ]
    },
    {
      "cell_type": "markdown",
      "source": [
        "#### Questão 3\n",
        "\n",
        "Crie um código que solicite uma frase à pessoa usuária e imprima a mesma frase digitada mas com todas as letras maiúsculas."
      ],
      "metadata": {
        "id": "DXVzqpN58Ntr"
      }
    },
    {
      "cell_type": "code",
      "source": [
        "frase = str(input('Digite uma frase: '))\n",
        "frase = frase.upper()\n",
        "print(frase)"
      ],
      "metadata": {
        "id": "d0VzoYP68k-I",
        "colab": {
          "base_uri": "https://localhost:8080/"
        },
        "outputId": "f75fb17e-23d0-432f-9af1-36ece2e60400"
      },
      "execution_count": null,
      "outputs": [
        {
          "output_type": "stream",
          "name": "stdout",
          "text": [
            "Digite uma frase: hoje vai chover\n",
            "HOJE VAI CHOVER\n"
          ]
        }
      ]
    },
    {
      "cell_type": "markdown",
      "source": [
        "#### Questão 4\n",
        "\n",
        "Crie um código que solicite uma frase à pessoa usuária e imprima a mesma frase digitada mas com todas as letras minúsculas."
      ],
      "metadata": {
        "id": "I12VeNPK8Nqb"
      }
    },
    {
      "cell_type": "code",
      "source": [
        "frase = str(input('Digite uma frase: '))\n",
        "frase = frase.lower()\n",
        "print(frase)"
      ],
      "metadata": {
        "id": "KD8rNy2K8kox",
        "colab": {
          "base_uri": "https://localhost:8080/"
        },
        "outputId": "e45ff674-85c2-47e3-8c44-e252053bab39"
      },
      "execution_count": null,
      "outputs": [
        {
          "output_type": "stream",
          "name": "stdout",
          "text": [
            "Digite uma frase: HOJE O DIA ESTÁ BOM\n",
            "hoje o dia está bom\n"
          ]
        }
      ]
    },
    {
      "cell_type": "markdown",
      "source": [
        "#### Questão 5\n",
        "\n",
        "Crie uma variável chamada “`frase`” e atribua a ela uma string de sua escolha. Em seguida, imprima a frase sem espaços em branco no início e no fim."
      ],
      "metadata": {
        "id": "cRqngSE48Nog"
      }
    },
    {
      "cell_type": "code",
      "source": [
        " frase = '   Rafael Gustavo Furlan     '\n",
        " frase = frase.strip()\n",
        " print(frase)"
      ],
      "metadata": {
        "id": "aSCpdF-o8kBs",
        "colab": {
          "base_uri": "https://localhost:8080/"
        },
        "outputId": "74cae692-1e1c-4db3-e427-db785856f6aa"
      },
      "execution_count": null,
      "outputs": [
        {
          "output_type": "stream",
          "name": "stdout",
          "text": [
            "Rafael Gustavo Furlan\n"
          ]
        }
      ]
    },
    {
      "cell_type": "markdown",
      "source": [
        "#### Questão 6\n",
        "\n",
        "Crie um código que solicite uma frase à pessoa usuária e imprima a mesma frase sem espaços em branco no início e no fim."
      ],
      "metadata": {
        "id": "murIazpQ8Nkv"
      }
    },
    {
      "cell_type": "code",
      "source": [
        "frase = str(input('Digite uma frase: '))\n",
        "frase = frase.strip()\n",
        "print(frase)"
      ],
      "metadata": {
        "id": "tHunjwuG8jNq",
        "colab": {
          "base_uri": "https://localhost:8080/"
        },
        "outputId": "a76f0a4c-92cd-4d80-f69d-f37f806066f5"
      },
      "execution_count": null,
      "outputs": [
        {
          "output_type": "stream",
          "name": "stdout",
          "text": [
            "Digite uma frase:    Rafael Gustavo Furlan         \n",
            "Rafael Gustavo Furlan\n"
          ]
        }
      ]
    },
    {
      "cell_type": "markdown",
      "source": [
        "#### Questão 7\n",
        "\n",
        "\n",
        "Crie um código que solicite uma frase à pessoa usuária e imprima a mesma frase sem espaços em branco no início e no fim e em letras minúsculas."
      ],
      "metadata": {
        "id": "eRxc2OeX8Nh2"
      }
    },
    {
      "cell_type": "code",
      "source": [
        "frase = str(input('Digite uma frase: '))\n",
        "frase = frase.strip().lower()\n",
        "print(frase)"
      ],
      "metadata": {
        "id": "DYm0_UwS8ih6",
        "colab": {
          "base_uri": "https://localhost:8080/"
        },
        "outputId": "958bf475-cd44-455a-d185-b73c23f4f291"
      },
      "execution_count": null,
      "outputs": [
        {
          "output_type": "stream",
          "name": "stdout",
          "text": [
            "Digite uma frase:      Rafael Gustavo Furlan    \n",
            "rafael gustavo furlan\n"
          ]
        }
      ]
    },
    {
      "cell_type": "markdown",
      "source": [
        "#### Questão 8\n",
        "\n",
        "Crie um código que solicite uma frase à pessoa usuária e imprima a mesma frase com todas as vogais “`e`” trocadas pela letra “`f`”."
      ],
      "metadata": {
        "id": "UKATLavs8NfI"
      }
    },
    {
      "cell_type": "code",
      "source": [
        "frase = str(input('Digite uma frase: '))\n",
        "frase = frase.replace('e', 'f')\n",
        "print(frase)"
      ],
      "metadata": {
        "id": "k64C5G5S8iLO",
        "colab": {
          "base_uri": "https://localhost:8080/"
        },
        "outputId": "395c5acd-ea8e-48b4-d75f-d0f8c79cf31c"
      },
      "execution_count": null,
      "outputs": [
        {
          "output_type": "stream",
          "name": "stdout",
          "text": [
            "Digite uma frase: Rafael Gustavo Furlan\n",
            "Rafafl Gustavo Furlan\n"
          ]
        }
      ]
    },
    {
      "cell_type": "markdown",
      "source": [
        "#### Questão 9\n",
        "\n",
        "\n",
        "Crie um código que solicite uma frase à pessoa usuária e imprima a mesma frase com todas as vogais “`a`” trocadas pela caractere  “`@`”."
      ],
      "metadata": {
        "id": "n_1SPchw8NdG"
      }
    },
    {
      "cell_type": "code",
      "source": [
        "frase = str(input('Digite uma frase: '))\n",
        "frase = frase.replace('a', '@')\n",
        "print(frase)"
      ],
      "metadata": {
        "id": "msaDNm_p8h0D",
        "colab": {
          "base_uri": "https://localhost:8080/"
        },
        "outputId": "b6a7cf86-0b1a-4f3f-a261-d3c1e2643a2a"
      },
      "execution_count": null,
      "outputs": [
        {
          "output_type": "stream",
          "name": "stdout",
          "text": [
            "Digite uma frase: Rafael Gustavo Furlan\n",
            "R@f@el Gust@vo Furl@n\n"
          ]
        }
      ]
    },
    {
      "cell_type": "markdown",
      "source": [
        "#### Questão 10\n",
        "\n",
        "\n",
        "Crie um código que solicite uma frase à pessoa usuária e imprima a mesma frase com todas as consoantes “`s`” trocadas pelo caractere  “`$`”."
      ],
      "metadata": {
        "id": "H3sTTjqI8Naa"
      }
    },
    {
      "cell_type": "code",
      "source": [
        "frase = str(input('Digite uma frase: '))\n",
        "frase = frase.replace('s', '$')\n",
        "print(frase)"
      ],
      "metadata": {
        "id": "RPBIsWT68e-1",
        "colab": {
          "base_uri": "https://localhost:8080/"
        },
        "outputId": "f7136a22-8a1c-4449-8000-c9d13c5cd956"
      },
      "execution_count": null,
      "outputs": [
        {
          "output_type": "stream",
          "name": "stdout",
          "text": [
            "Digite uma frase: Isis Cristina Alves\n",
            "I$i$ Cri$tina Alve$\n"
          ]
        }
      ]
    },
    {
      "cell_type": "markdown",
      "source": [
        "## Aula 3 - Estruturas condicionais"
      ],
      "metadata": {
        "id": "XGePe4GD2I59"
      }
    },
    {
      "cell_type": "markdown",
      "source": [
        "### Aquecendo na programação"
      ],
      "metadata": {
        "id": "Pr9HTW0UHCdD"
      }
    },
    {
      "cell_type": "markdown",
      "source": [
        "#### Questão 1\n",
        "Escreva um programa que peça à pessoa usuária para fornecer dois números e exibir o número maior."
      ],
      "metadata": {
        "id": "xBZHqhVg80Fy"
      }
    },
    {
      "cell_type": "code",
      "source": [
        "n1 = int(input('Digite o primeiro numero: '))\n",
        "n2 = int(input('Digite o segundo numero: '))\n",
        "\n",
        "if n1 > n2:\n",
        "  print(f'maior numero {n1}')\n",
        "else:\n",
        "  print(f'maior numero {n2}')"
      ],
      "metadata": {
        "id": "GJlGnzjc-xyF",
        "colab": {
          "base_uri": "https://localhost:8080/"
        },
        "outputId": "a337f3ed-237e-4e3c-cef2-3adf2dacb074"
      },
      "execution_count": null,
      "outputs": [
        {
          "output_type": "stream",
          "name": "stdout",
          "text": [
            "Digite o primeiro numero: 4\n",
            "Digite o segundo numero: 3\n",
            "maior numero 4\n"
          ]
        }
      ]
    },
    {
      "cell_type": "markdown",
      "source": [
        "#### Questão 2\n",
        "Escreva um programa que solicite o percentual de crescimento de produção de uma empresa e informe se houve um crescimento (porcentagem positiva) ou decrescimento (porcentagem negativa)."
      ],
      "metadata": {
        "id": "H4sgN7dyHNJF"
      }
    },
    {
      "cell_type": "code",
      "source": [
        "p1 = float(input('Digite a porcentagem (x,xx) de crescimento da empresa: '))\n",
        "\n",
        "if p1 > 0:\n",
        "  print(f'percentual de {p1} é positivo')\n",
        "elif p1 < 0:\n",
        "  print(f'percentual de {p1} é negativo')\n",
        "else:\n",
        "  print(f'percentual de cescimento zerado')"
      ],
      "metadata": {
        "id": "-2_Ry5XJ-yZW",
        "colab": {
          "base_uri": "https://localhost:8080/"
        },
        "outputId": "db66f270-35cf-4d8c-8aff-2178c584815e"
      },
      "execution_count": null,
      "outputs": [
        {
          "output_type": "stream",
          "name": "stdout",
          "text": [
            "Digite a porcentagem (x,xx) de crescimento da empresa: -0.5\n",
            "percentual de -0.5 é negativo\n"
          ]
        }
      ]
    },
    {
      "cell_type": "markdown",
      "source": [
        "#### Questão 3\n",
        "Escreva um programa que determine se uma letra fornecida pela pessoa usuária é uma vogal ou consoante."
      ],
      "metadata": {
        "id": "a_mzNOBDHNny"
      }
    },
    {
      "cell_type": "code",
      "source": [
        "vogal = 'a, e, i, o, u'\n",
        "\n",
        "letra = str(input('Digite uma letra: '))\n",
        "letra = letra.strip().lower()\n",
        "\n",
        "if letra in vogal:\n",
        "  print(f'letra digitada {letra} é vogal')\n",
        "else:\n",
        "  print(f'letra digitada {letra} é consoante')"
      ],
      "metadata": {
        "id": "NbgndVyg-zFJ",
        "colab": {
          "base_uri": "https://localhost:8080/"
        },
        "outputId": "07a5babc-b034-4ce2-820b-820e45d8bb65"
      },
      "execution_count": null,
      "outputs": [
        {
          "output_type": "stream",
          "name": "stdout",
          "text": [
            "Digite uma letra: u\n",
            "letra digitada u é vogal\n"
          ]
        }
      ]
    },
    {
      "cell_type": "markdown",
      "source": [
        "#### Questão 4\n",
        "Escreva um programa que leia valores médios de preços de um modelo de carro por 3 anos consecutivos e exiba o valor mais alto e mais baixo entre esses três anos."
      ],
      "metadata": {
        "id": "mofMRjSZHP99"
      }
    },
    {
      "cell_type": "code",
      "source": [
        "val_medio_1 = float(input('Digite o valor do veiculo no ano 1: '))\n",
        "val_medio_2 = float(input('Digite o valor do veiculo no ano 2: '))\n",
        "val_medio_3 = float(input('Digite o valor do veiculo no ano 3: '))\n",
        "\n",
        "if val_medio_1 > val_medio_2 > val_medio_3:\n",
        "  print(f'valor mais alto {val_medio_1} e valor mais baixo {val_medio_3}')\n",
        "elif val_medio_1 > val_medio_3 > val_medio_2:\n",
        "  print(f'valor mais alto {val_medio_1} e valor mais baixo {val_medio_2}')\n",
        "elif val_medio_2 > val_medio_1 > val_medio_3:\n",
        "  print(f'valor mais alto {val_medio_2} e valor mais baixo {val_medio_3}')\n",
        "elif val_medio_2 > val_medio_3 > val_medio_1:\n",
        "  print(f'valor mais alto {val_medio_2} e valor mais baixo {val_medio_1}')\n",
        "elif val_medio_3 > val_medio_1 > val_medio_2:\n",
        "  print(f'valor mais alto {val_medio_3} e valor mais baixo {val_medio_2}')\n",
        "elif val_medio_3 > val_medio_2 > val_medio_1:\n",
        "  print(f'valor mais alto {val_medio_3} e valor mais baixo {val_medio_1}')\n",
        "else:\n",
        "  print(f'existem valores repetidos ou valores não numéricos')"
      ],
      "metadata": {
        "id": "TX--d3k9-02c",
        "colab": {
          "base_uri": "https://localhost:8080/"
        },
        "outputId": "0a038ffc-c22e-4dd2-a86b-a0a95e677310"
      },
      "execution_count": null,
      "outputs": [
        {
          "output_type": "stream",
          "name": "stdout",
          "text": [
            "Digite o valor do veiculo no ano 1: 1\n",
            "Digite o valor do veiculo no ano 2: 2\n",
            "Digite o valor do veiculo no ano 3: 3\n",
            "valor mais alto 3.0 e valor mais baixo 1.0\n"
          ]
        }
      ]
    },
    {
      "cell_type": "markdown",
      "source": [
        "#### Questão 5\n",
        "Escreva um programa que pergunte sobre o preço de três produtos e indique qual é o produto mais barato para comprar."
      ],
      "metadata": {
        "id": "jY5tIwd-HQzc"
      }
    },
    {
      "cell_type": "code",
      "source": [
        "prod_1 = float(input('Digite o valor do produto 1: '))\n",
        "prod_2 = float(input('Digite o valor do produto 2: '))\n",
        "prod_3 = float(input('Digite o valor do produto 3: '))\n",
        "\n",
        "if prod_3 > prod_2 > prod_1:\n",
        "   print(f'produto 1 é mais barato, custando R$ {prod_1}')\n",
        "elif prod_2 > prod_3 > prod_1:\n",
        "   print(f'produto 1 é mais barato, custando R$ {prod_1}')\n",
        "elif prod_1 > prod_3 > prod_2:\n",
        "   print(f'produto 2 é mais barato, custando R$ {prod_2}')\n",
        "elif prod_3 > prod_1 > prod_2:\n",
        "   print(f'produto 2 é mais barato, custando R$ {prod_2}')\n",
        "elif prod_1 > prod_2 > prod_3:\n",
        "   print(f'produto 3 é mais barato, custando R$ {prod_3}')\n",
        "elif prod_2 > prod_1 > prod_3:\n",
        "   print(f'produto 3 é mais barato, custando R$ {prod_3}')\n",
        "elif prod_1 == prod_2 == prod_3:\n",
        "  print(f'os produtos tem o mesmo valor de R$ {prod_1}')\n",
        "else:\n",
        "  print('Pane no sistema, alguém me desconfigurou')"
      ],
      "metadata": {
        "id": "sYqNh9df-0gk",
        "colab": {
          "base_uri": "https://localhost:8080/"
        },
        "outputId": "0a585e96-0ad6-4082-fa41-f77875655897"
      },
      "execution_count": null,
      "outputs": [
        {
          "output_type": "stream",
          "name": "stdout",
          "text": [
            "Digite o valor do produto 1: 1\n",
            "Digite o valor do produto 2: 1\n",
            "Digite o valor do produto 3: 0\n",
            "Pane no sistema, alguém me desconfigurou\n"
          ]
        }
      ]
    },
    {
      "cell_type": "markdown",
      "source": [
        "#### Questão 6\n",
        "Escreva um programa que leia três números e os exiba em ordem decrescente."
      ],
      "metadata": {
        "id": "1r6aVxtTHR4E"
      }
    },
    {
      "cell_type": "code",
      "source": [
        "n1 = int(input('Digite o valor 1: '))\n",
        "n2 = int(input('Digite o valor 2: '))\n",
        "n3 = int(input('Digite o valor 3: '))\n",
        "\n",
        "if n1 > n2 > n3:\n",
        "  lista = (n1,n2,n3)\n",
        "  print(lista)\n",
        "elif n1 > n3 > n2:\n",
        "  lista = (n1,n3,n2)\n",
        "  print(lista)\n",
        "elif n2 > n1 > n3:\n",
        "  lista = (n2,n1,n3)\n",
        "  print(lista)\n",
        "elif n2 > n3 > n1:\n",
        "  lista = (n2,n3,n1)\n",
        "  print(lista)\n",
        "elif n3 > n1 > n2:\n",
        "  lista = (n3,n1,n2)\n",
        "  print(lista)\n",
        "elif n3 > n2 > n1:\n",
        "  lista = (n3,n2,n1)\n",
        "  print(lista)\n",
        "else:\n",
        "  print('Pane no sistema, alguém me desconfigurou')"
      ],
      "metadata": {
        "id": "ydOCYUMO-0Hk",
        "colab": {
          "base_uri": "https://localhost:8080/"
        },
        "outputId": "cd5a6127-b5c4-4f3e-8c6f-8e907b2ec15e"
      },
      "execution_count": null,
      "outputs": [
        {
          "output_type": "stream",
          "name": "stdout",
          "text": [
            "Digite o valor 1: 7\n",
            "Digite o valor 2: 8\n",
            "Digite o valor 3: 1\n",
            "(8, 7, 1)\n"
          ]
        }
      ]
    },
    {
      "cell_type": "markdown",
      "source": [
        "#### Questão 7\n",
        "Escreva um programa que pergunte em qual turno a pessoa usuária estuda (\"manhã\", \"tarde\" ou \"noite\") e exiba a mensagem \"Bom Dia!\", \"Boa Tarde!\", \"Boa Noite!\", ou \"Valor Inválido!\", conforme o caso."
      ],
      "metadata": {
        "id": "inW3F-hAHS_X"
      }
    },
    {
      "cell_type": "code",
      "source": [
        "print('Olá! bem vindo(a) ao sistema\\n\\n Selecione o período que você estuda: \\n1. manhã\\n2. tarde\\n3. noite\\n')\n",
        "opc = int(input('digite uma opção valida: '))\n",
        "\n",
        "if opc == 1:\n",
        "  print('Bom dia!')\n",
        "elif opc == 2:\n",
        "  print('Boa tarde!')\n",
        "elif opc == 3:\n",
        "  print('Boa noite!')\n",
        "else:\n",
        "  print('Opção inválida')"
      ],
      "metadata": {
        "id": "-_q-Pcr_-zth",
        "colab": {
          "base_uri": "https://localhost:8080/"
        },
        "outputId": "072bb506-f908-42b7-d3b4-0b5e1b3791a3"
      },
      "execution_count": null,
      "outputs": [
        {
          "output_type": "stream",
          "name": "stdout",
          "text": [
            "Olá! bem vindo(a) ao sistema\n",
            "\n",
            " Selecione o período que você estuda: \n",
            "1. manhã\n",
            "2. tarde\n",
            "3. noite\n",
            "\n",
            "digite uma opção valida: 4\n",
            "Opção inválida\n"
          ]
        }
      ]
    },
    {
      "cell_type": "markdown",
      "source": [
        "#### Questão 8\n",
        "Escreva um programa que peça um número inteiro à pessoa usuária e determine se ele é par ou ímpar. Dica: Você pode utilizar o operador módulo `%`."
      ],
      "metadata": {
        "id": "NCCPF3QqHTw-"
      }
    },
    {
      "cell_type": "code",
      "source": [
        "numero = int(input('Digite um numero inteiro: '))\n",
        "\n",
        "if numero%2 == 0:\n",
        "  print(f'o numero {numero} é par')\n",
        "elif numero%2 == 1:\n",
        "  print(f'o numero {numero} é impar')\n",
        "else:\n",
        "  printf(f'o numero {numero} é inválido')"
      ],
      "metadata": {
        "id": "OmZJt1nQ-3e6",
        "colab": {
          "base_uri": "https://localhost:8080/"
        },
        "outputId": "8417a3ab-625a-4427-bc2f-ec466c8c2f48"
      },
      "execution_count": null,
      "outputs": [
        {
          "output_type": "stream",
          "name": "stdout",
          "text": [
            "Digite um numero inteiro: 10\n",
            "o numero 10 é par\n"
          ]
        }
      ]
    },
    {
      "cell_type": "markdown",
      "source": [
        "#### Questão 9\n",
        "Escreva um programa que peça um número à pessoa usuária e informe se ele é inteiro ou decimal."
      ],
      "metadata": {
        "id": "h93Ck1tQHUwE"
      }
    },
    {
      "cell_type": "code",
      "source": [
        "numero = str(input('digite um numero inteiro ou decimal: '))\n",
        "\n",
        "if '.' in numero or ',' in numero:\n",
        "  print(f'o numero {numero} é decimal')\n",
        "else:\n",
        "  print(f'o numero {numero} é um inteiro')"
      ],
      "metadata": {
        "id": "sLMlZcx8-20N",
        "colab": {
          "base_uri": "https://localhost:8080/"
        },
        "outputId": "b1f25979-44a9-48c7-a60e-9c3f96cbd2da"
      },
      "execution_count": null,
      "outputs": [
        {
          "output_type": "stream",
          "name": "stdout",
          "text": [
            "digite um numero inteiro ou decimal: 1,7\n",
            "o numero 1,7 é decimal\n"
          ]
        }
      ]
    },
    {
      "cell_type": "markdown",
      "source": [
        "### Momento dos projetos"
      ],
      "metadata": {
        "id": "bKdXSK1SH_pF"
      }
    },
    {
      "cell_type": "markdown",
      "source": [
        "#### Questão 10\n",
        "Um programa deve ser escrito para ler dois números e, em seguida, perguntar à pessoa usuária qual operação ele deseja realizar. O resultado da operação deve incluir informações sobre o número - se é par ou ímpar, positivo ou negativo e inteiro ou decimal."
      ],
      "metadata": {
        "id": "WBlEyyzsHV86"
      }
    },
    {
      "cell_type": "code",
      "source": [
        "# input de dados\n",
        "n1 = str(input('Digite o primeiro numero: '))\n",
        "n2 = str(input('Digite o segundo numero: '))\n",
        "\n",
        "# selecao de opcao\n",
        "operacao = int(input('\\nSelecione uma opção abaixo:\\n\\n1. Adição\\n2. Subtração\\n3. Multiplicação\\n4. Divisão\\n\\n Opção selecionada: '))\n",
        "\n",
        "# padronizar n1\n",
        "if '.' in n1 or ',' in n1:\n",
        "  n1 = float(n1)\n",
        "  #print(f'valor {n1} do tipo type {type(n1)}')\n",
        "else:\n",
        "  n1 = int(n1)\n",
        "  #print(f'valor {n1} do tipo type {type(n1)}')\n",
        "\n",
        "# padronizar n2\n",
        "if '.' in n2 or ',' in n2:\n",
        "  n2 = float(n2)\n",
        "  #print(f'valor {n2} do tipo type {type(n2)}')\n",
        "else:\n",
        "  n2 = int(n2)\n",
        "  #print(f'valor {n2} do tipo type {type(n2)}')\n",
        "\n",
        "# efetuando os calculos\n",
        "print('\\n-----------------------------------------------')\n",
        "if operacao == 1:\n",
        "  resultado = n1+n2\n",
        "  print(f'\\no resultado de {n1} + {n2} é {resultado}')\n",
        "elif operacao == 2:\n",
        "  resultado = n1-n2\n",
        "  print(f'\\no resultado de {n1} - {n2} é {resultado}')\n",
        "elif operacao == 3:\n",
        "  resultado = n1*n2\n",
        "  print(f'\\no resultado de {n1} * {n2} é {resultado}')\n",
        "elif operacao == 4:\n",
        "  resultado = n1/n2\n",
        "  print(f'\\no resultado de {n1} / {n2} é {resultado}')\n",
        "else:\n",
        "  print('\\nPane no sistema, alguém me reconfigurou (erro de operação)\\n')\n",
        "\n",
        "# indentificar se o resultado é par ou impar\n",
        "if resultado%2 == 0:\n",
        "  print(f'o resultado {resultado} é par')\n",
        "elif resultado%2 == 1:\n",
        "  print(f'o resultado {resultado} é impar')\n",
        "else:\n",
        "  print('Pane no sistema, alguém me reconfigurou (erro de par ou impar)')\n",
        "\n",
        "# identificar se o resultado é positivo ou negativo\n",
        "if resultado > 0:\n",
        "  print(f'o resultado {resultado} é positivo')\n",
        "elif resultado < 0:\n",
        "  print(f'o resultado {resultado} é negativo')\n",
        "elif resultado == 0:\n",
        "  print(f'o resultado zero')\n",
        "else:\n",
        "  print('Pane no sistema, alguém me reconfigurou (erro de positivo ou negativo)')\n",
        "\n",
        "# identificar se o resultado é inteiro ou decimal\n",
        "if type(resultado) == int:\n",
        "  print(f'resultado {resultado} é um inteiro')\n",
        "elif type(resultado) == float:\n",
        "  print(f'resultado {resultado} é um decimal')\n",
        "else:\n",
        "  print('Pane no sistema, alguém me reconfigurou (erro de inteiro ou decimal)')"
      ],
      "metadata": {
        "id": "3jmahZ0f-2gq",
        "colab": {
          "base_uri": "https://localhost:8080/"
        },
        "outputId": "32484b16-ad3e-4c7e-d770-a03ca871cd1a"
      },
      "execution_count": null,
      "outputs": [
        {
          "output_type": "stream",
          "name": "stdout",
          "text": [
            "Digite o primeiro numero: 10\n",
            "Digite o segundo numero: 2\n",
            "\n",
            "Selecione uma opção abaixo:\n",
            "\n",
            "1. Adição\n",
            "2. Subtração\n",
            "3. Multiplicação\n",
            "4. Divisão\n",
            "\n",
            " Opção selecionada: 4\n",
            "\n",
            "-----------------------------------------------\n",
            "\n",
            "o resultado de 10 / 2 é 5.0\n",
            "o resultado 5.0 é impar\n",
            "o resultado 5.0 é positivo\n",
            "resultado 5.0 é um decimal\n"
          ]
        }
      ]
    },
    {
      "cell_type": "markdown",
      "source": [
        "#### Questão 11\n",
        "Escreva um programa que peça à pessoa usuária três números que representam os lados de um triângulo. O programa deve informar se os valores podem ser utilizados para formar um triângulo e, caso afirmativo, se ele é equilátero, isósceles ou escaleno. Tenha em mente algumas dicas:\n",
        "- Três lados formam um triângulo quando a soma de quaisquer dois lados for maior que o terceiro;\n",
        "- Triângulo Equilátero: três lados iguais;\n",
        "- Triângulo Isósceles: quaisquer dois lados iguais;\n",
        "- Triângulo Escaleno: três lados diferentes;\n"
      ],
      "metadata": {
        "id": "VdnlULxHHW19"
      }
    },
    {
      "cell_type": "code",
      "source": [
        "# input de dados\n",
        "l1 = str(input('digite o tamanho do primeiro lado: '))\n",
        "l2 = str(input('digite o tamanho do segundo lado: '))\n",
        "l3 = str(input('digite o tamanho do terceiro lado: '))\n",
        "\n",
        "# print(l1,l2,l3)\n",
        "\n",
        "# padronizacao da variavel l1\n",
        "if '.' in l1 or ',' in l1:\n",
        "  l1 = float(l1)\n",
        "else:\n",
        "  l1 = int(l1)\n",
        "\n",
        "# padronizacao da variavel l2\n",
        "if '.' in l2 or ',' in l2:\n",
        "  l2 = float(l2)\n",
        "else:\n",
        "  l2 = int(l2)\n",
        "\n",
        "# padronizacao da variavel l3\n",
        "if '.' in l3 or ',' in l3:\n",
        "  l3 = float(l3)\n",
        "else:\n",
        "  l3 = int(l3)\n",
        "\n",
        "#print (type(l1), type(l2), type(l3))\n",
        "\n",
        "# classificar se é um triangulo ou nao\n",
        "if (l1 + l2) > l3:\n",
        "  triangulo = True\n",
        "  print('\\nas medidas dadas compoe um triangulo')\n",
        "elif (l2 + l3) > l1:\n",
        "  triangulo = True\n",
        "  print('\\nas medidas dadas compoe um triangulo')\n",
        "elif (l3 + l1) > l2:\n",
        "  triangulo = True\n",
        "  print('\\nas medidas dadas compoe um triangulo')\n",
        "else:\n",
        "  triangulo = False\n",
        "  print('\\nas medidas dadas nao compoe um triangulo')\n",
        "\n",
        "# identificando o tipo do triangulo\n",
        "if l1 == l2 == l3:\n",
        "  print('o triangulo é equilatero')\n",
        "elif l1 == l2 or l1 == l3 or l2 == l3:\n",
        "  print('o triangulo é isoceles')\n",
        "elif l1 != l2 != l3:\n",
        "  print('o triangulo é escaleno')"
      ],
      "metadata": {
        "id": "0z73sqUO-2Pw",
        "colab": {
          "base_uri": "https://localhost:8080/"
        },
        "outputId": "d71beb5f-9f2d-4eeb-f6bb-2c7a4dde2330"
      },
      "execution_count": null,
      "outputs": [
        {
          "output_type": "stream",
          "name": "stdout",
          "text": [
            "digite o tamanho do primeiro lado: 8\n",
            "digite o tamanho do segundo lado: 81\n",
            "digite o tamanho do terceiro lado: 3\n",
            "\n",
            "as medidas dadas compoe um triangulo\n",
            "o triangulo é escaleno\n"
          ]
        }
      ]
    },
    {
      "cell_type": "markdown",
      "source": [
        "#### Questão 12\n",
        "Um estabelecimento está vendendo combustíveis com descontos variados. Para o etanol, se a quantidade comprada for até 15 litros, o desconto será de 2% por litro. Caso contrário, será de 4% por litro. Para o diesel, se a quantidade comprada for até 15 litros, o desconto será de 3% por litro. Caso contrário, será de 5% por litro. O preço do litro de diesel é R\\$ 2,00 e o preço do litro de etanol é R\\$ 1,70. Escreva um programa que leia a quantidade de litros vendidos e o tipo de combustível (E para etanol e D para diesel) e calcule o valor a ser pago pelo cliente. Tenha em mente algumas dicas:\n",
        "\n",
        "- O do valor do desconto será a multiplicação entre preço do litro, quantidade de litros e o valor do desconto.\n",
        "- O valor a ser pago por um cliente será o resultado da multiplicação do preço do litro pela quantidade de litros menos o valor de desconto resultante do cálculo.\n"
      ],
      "metadata": {
        "id": "_PpEpOugHXwZ"
      }
    },
    {
      "cell_type": "code",
      "source": [
        "# definicao de variaveis\n",
        "etanol = 1.70\n",
        "etanol_minimo_desconto = 15.00\n",
        "etanol_desconto_minimo = 0.02\n",
        "diesel = 2.00\n",
        "etanol_desconto_maximo = 0.04\n",
        "diesel_minimo_desconto = 15.00\n",
        "diesel_desconto_minimo = 0.03\n",
        "diesel_desconto_maximo = 0.05\n",
        "\n",
        "\n",
        "# selecao de combustivel\n",
        "opcao = str(input('Selecione o tipo de combustivel\\n\\nE para etanol\\nD para diesel\\nDigite uma opção válida: '))\n",
        "opcao = opcao.strip().lower()\n",
        "comb = float(input('\\nDigite a quantidade de litros abastecido: '))\n",
        "\n",
        "# selecionando o tipo de combustivel\n",
        "if opcao == 'e':\n",
        "  print('\\nEtanol selecionado')\n",
        "\n",
        "  if comb < etanol_minimo_desconto:\n",
        "    desconto = etanol * comb * etanol_desconto_minimo\n",
        "    bomba = etanol * comb\n",
        "    valor_total_a_pagar = bomba - desconto\n",
        "    print(f'\\nvalor total do combustivel R$ {bomba:.2f}')\n",
        "    print(f'desconto total de R$ {desconto:.2f}')\n",
        "    print(f'valor total a pagar R$ {valor_total_a_pagar:.2f}')\n",
        "  elif comb >= etanol_minimo_desconto:\n",
        "    desconto = etanol * comb * etanol_desconto_maximo\n",
        "    bomba = etanol * comb\n",
        "    valor_total_a_pagar = bomba - desconto\n",
        "    print(f'\\nvalor total do combustivel R$ {bomba:.2f}')\n",
        "    print(f'desconto total de R$ {desconto:.2f}')\n",
        "    print(f'valor total a pagar R$ {valor_total_a_pagar:.2f}')\n",
        "  else:\n",
        "    print('erro no processamento do desconto do etanol')\n",
        "\n",
        "elif opcao == 'd':\n",
        "  print('\\nDiesel selecionado')\n",
        "\n",
        "  if comb < diesel_minimo_desconto:\n",
        "    desconto = diesel * comb * diesel_desconto_minimo\n",
        "    bomba = diesel * comb\n",
        "    valor_total_a_pagar = bomba - desconto\n",
        "    print(f'\\nvalor total do combustivel R$ {bomba:.2f}')\n",
        "    print(f'desconto total de R$ {desconto:.2f}')\n",
        "    print(f'valor total a pagar R$ {valor_total_a_pagar:.2f}')\n",
        "  elif comb >= diesel_minimo_desconto:\n",
        "    desconto = diesel * comb * diesel_desconto_maximo\n",
        "    bomba = diesel * comb\n",
        "    valor_total_a_pagar = bomba - desconto\n",
        "    print(f'\\nvalor total do combustivel R$ {bomba:.2f}')\n",
        "    print(f'desconto total de R$ {desconto:.2f}')\n",
        "    print(f'valor total a pagar R$ {valor_total_a_pagar:.2f}')\n",
        "  else:\n",
        "    print('erro no processamento do desconto do etanol')"
      ],
      "metadata": {
        "id": "9izoF-0O-1yD",
        "colab": {
          "base_uri": "https://localhost:8080/"
        },
        "outputId": "9d99f558-46f2-479a-f591-6e33ec11cf96"
      },
      "execution_count": null,
      "outputs": [
        {
          "output_type": "stream",
          "name": "stdout",
          "text": [
            "Selecione o tipo de combustivel\n",
            "\n",
            "E para etanol\n",
            "D para diesel\n",
            "Digite uma opção válida: d\n",
            "\n",
            "Digite a quantidade de litros abastecido: 17\n",
            "\n",
            "Diesel Selecionado\n",
            "\n",
            "valor total do combustivel R$ 34.00\n",
            "desconto total de R$ 1.70\n",
            "valor total a pagar R$ 32.30\n"
          ]
        }
      ]
    },
    {
      "cell_type": "markdown",
      "source": [
        "#### Questão 13\n",
        "Em uma empresa de venda de imóveis você precisa criar um código que analise os dados de vendas anuais para ajudar a diretoria na tomada de decisão. O código precisa coletar os dados de quantidade de venda durante os anos de 2022 e 2023 e fazer um cálculo de variação percentual. A partir do valor da variação, deve ser enviada às seguintes sugestões:\n",
        "- Para variação acima de 20%: bonificação para o time de vendas.\n",
        "- Para variação entre 2% e 20%: pequena bonificação para time de vendas.\n",
        "- Para variação entre 2% e -10%: planejamento de políticas de incentivo às vendas.\n",
        "- Para bonificações abaixo de -10%: corte de gastos.\n"
      ],
      "metadata": {
        "id": "s_XS_D1WHY2R"
      }
    },
    {
      "cell_type": "code",
      "source": [
        "vendas_2022 = int(input('Insira a quantidade de vendas em 2022: '))\n",
        "vendas_2023 = int(input('Insira a quantidade de vendas em 2023: '))\n",
        "\n",
        "percentual = (vendas_2023/vendas_2022) -1\n",
        "\n",
        "if percentual > 0.2:\n",
        "  print(f'percentual de {(percentual*100):.2f}% - bonificação para o time de vendas')\n",
        "elif 0.2 > percentual > 0.02:\n",
        "  print(f'percentual de {(percentual*100):.2f}% - pequena bonificação para o time de vendas')\n",
        "elif 0.02 > percentual > -0.1:\n",
        "  print(f'percentual de {(percentual*100):.2f}% - planejamento de políticas de incentivo a vendas')\n",
        "elif -0.1 > percentual:\n",
        "  print(f'percentual de {(percentual*100):.2f}% - corte de gastos')\n",
        "else:\n",
        "  print('demite todo mundo logo')"
      ],
      "metadata": {
        "id": "avQrYlUg-w8f",
        "colab": {
          "base_uri": "https://localhost:8080/"
        },
        "outputId": "0184b147-c155-4a83-8fb9-144ef9651eb8"
      },
      "execution_count": null,
      "outputs": [
        {
          "output_type": "stream",
          "name": "stdout",
          "text": [
            "Insira a quantidade de vendas em 2022: 387\n",
            "Insira a quantidade de vendas em 2023: 432\n",
            "percentual de 11.63% - pequena bonificação para o time de vendas\n"
          ]
        }
      ]
    },
    {
      "cell_type": "markdown",
      "source": [
        "## Aula 4 - Estruturas de repetição"
      ],
      "metadata": {
        "id": "AuaWh4-d2Itt"
      }
    },
    {
      "cell_type": "markdown",
      "source": [
        "### Aquecendo na programação"
      ],
      "metadata": {
        "id": "6MSqU0sIJRdD"
      }
    },
    {
      "cell_type": "markdown",
      "source": [
        "#### Questão 1\n",
        "Escreva um programa que peça dois números inteiros e imprima todos os números inteiros entre eles."
      ],
      "metadata": {
        "id": "9eGGyCnAJRdQ"
      }
    },
    {
      "cell_type": "code",
      "source": [
        "# entrada de dados\n",
        "n1 = int(input('digite o primeiro numero inteiro: '))\n",
        "n2 = int(input('digite o segundo numero inteiro: '))\n",
        "\n",
        "# checando inicio e fim\n",
        "if n1 > n2:\n",
        "  inicio = n2\n",
        "  fim = n1\n",
        "elif n2 > n1:\n",
        "  inicio = n1\n",
        "  fim = n2\n",
        "else:\n",
        "  print('você digitou números iguais')\n",
        "\n",
        "# laco de impressao\n",
        "\n",
        "while inicio <= fim:\n",
        "  print(inicio)\n",
        "  inicio = inicio + 1"
      ],
      "metadata": {
        "id": "ID1oc1hxJRdQ",
        "colab": {
          "base_uri": "https://localhost:8080/"
        },
        "outputId": "5a8307d8-cee3-4cf7-ca44-4cd8077f49d1"
      },
      "execution_count": null,
      "outputs": [
        {
          "output_type": "stream",
          "name": "stdout",
          "text": [
            "digite o primeiro numero inteiro: 5\n",
            "digite o segundo numero inteiro: 18\n",
            "5\n",
            "6\n",
            "7\n",
            "8\n",
            "9\n",
            "10\n",
            "11\n",
            "12\n",
            "13\n",
            "14\n",
            "15\n",
            "16\n",
            "17\n",
            "18\n"
          ]
        }
      ]
    },
    {
      "cell_type": "markdown",
      "source": [
        "#### Questão 2\n",
        "Escreva um programa para calcular quantos dias levará para a colônia de uma bactéria A ultrapassar ou igualar a colônia de uma bactéria B, com base nas taxas de crescimento de 3% e 1,5% respectivamente. Considere que a colônia A inicia com 4 elementos e a colônia B com 10 elementos."
      ],
      "metadata": {
        "id": "mGonEHYCJRdR"
      }
    },
    {
      "cell_type": "code",
      "source": [
        "pop_a = 4\n",
        "tx_a = 0.03\n",
        "pop_b = 10\n",
        "tx_b = 0.015\n",
        "\n",
        "contador = 1\n",
        "\n",
        "while pop_a * tx_a <= pop_b * tx_b:\n",
        "  print(f'passaram {contador} dia(s)')\n",
        "  pop_a = pop_a * tx_a\n",
        "  pop_b = pop_b * tx_b\n",
        "  contador = contador + 1"
      ],
      "metadata": {
        "id": "wM6FJuoqJRdR",
        "colab": {
          "base_uri": "https://localhost:8080/"
        },
        "outputId": "0519f1eb-d0f7-4890-eb0a-22ed4ad9a110"
      },
      "execution_count": null,
      "outputs": [
        {
          "output_type": "stream",
          "name": "stdout",
          "text": [
            "passaram 1 dia(s)\n"
          ]
        }
      ]
    },
    {
      "cell_type": "markdown",
      "source": [
        "#### Questão 3\n",
        "Para tratar uma quantidade de 15 dados de avaliações de pessoas usuárias de um serviço da empresa, precisamos verificar se as notas são válidas. Então, escreva um programa que vai receber a nota de 0 a 5 de todos os dados e verificar se é um valor válido. Caso seja inserido uma nota acima de 5 ou abaixo de 0, repita até que a pessoa usuária insira um valor válido."
      ],
      "metadata": {
        "id": "UiOZRlqoJRdR"
      }
    },
    {
      "cell_type": "code",
      "source": [
        "check = False\n",
        "\n",
        "while check == False:\n",
        "  nota = int(input('digite uma nota: '))\n",
        "  if nota < 0:\n",
        "    print('nota invalida')\n",
        "    check = False\n",
        "  elif nota > 5:\n",
        "    print('nota invalida')\n",
        "    check = False\n",
        "  else:\n",
        "    print(f'nota {nota} digitada corretamente')\n",
        "    check = True"
      ],
      "metadata": {
        "id": "3TUAhCxcJRdR",
        "colab": {
          "base_uri": "https://localhost:8080/"
        },
        "outputId": "118cf45c-06cd-4d62-f47a-10a560a2481a"
      },
      "execution_count": null,
      "outputs": [
        {
          "output_type": "stream",
          "name": "stdout",
          "text": [
            "digite uma nota: 8\n",
            "nota invalida\n",
            "digite uma nota: 9\n",
            "nota invalida\n",
            "digite uma nota: -2\n",
            "nota invalida\n",
            "digite uma nota: 3\n",
            "nota 3 digitada corretamente\n"
          ]
        }
      ]
    },
    {
      "cell_type": "markdown",
      "source": [],
      "metadata": {
        "id": "ba3v7N0CbN6D"
      }
    },
    {
      "cell_type": "markdown",
      "source": [
        "#### Questão 4\n",
        "Desenvolva um programa que leia um conjunto indeterminado de temperaturas em Celsius e faça uma análise. Portanto, escreva um programa que leia temperaturas e informe a média delas. A leitura deve ser encerrada ao ser enviado o valor -273°C."
      ],
      "metadata": {
        "id": "ABv3KObGJRdR"
      }
    },
    {
      "cell_type": "code",
      "source": [
        "fim = -273\n",
        "s_temperatura = 0\n",
        "temperatura = 0\n",
        "denominador = 1\n",
        "\n",
        "while temperatura != fim:\n",
        "  temperatura = int(input('digite uma temperatura: '))\n",
        "  s_temperatura = s_temperatura + temperatura\n",
        "  media = s_temperatura/denominador\n",
        "  print(f'media = {media}, quantidade de leituras = {denominador}')\n",
        "  denominador = denominador+1"
      ],
      "metadata": {
        "id": "85tBBj5KJRdS",
        "colab": {
          "base_uri": "https://localhost:8080/"
        },
        "outputId": "76de3689-9505-41b6-a5ea-7d4c72562482"
      },
      "execution_count": null,
      "outputs": [
        {
          "output_type": "stream",
          "name": "stdout",
          "text": [
            "digite uma temperatura: 1\n",
            "media = 1.0, quantidade de leituras = 1\n",
            "digite uma temperatura: 2\n",
            "media = 1.5, quantidade de leituras = 2\n",
            "digite uma temperatura: 3\n",
            "media = 2.0, quantidade de leituras = 3\n",
            "digite uma temperatura: 4\n",
            "media = 2.5, quantidade de leituras = 4\n",
            "digite uma temperatura: 5\n",
            "media = 3.0, quantidade de leituras = 5\n",
            "digite uma temperatura: 6\n",
            "media = 3.5, quantidade de leituras = 6\n",
            "digite uma temperatura: 7\n",
            "media = 4.0, quantidade de leituras = 7\n",
            "digite uma temperatura: 8\n",
            "media = 4.5, quantidade de leituras = 8\n",
            "digite uma temperatura: 9\n",
            "media = 5.0, quantidade de leituras = 9\n",
            "digite uma temperatura: 10\n",
            "media = 5.5, quantidade de leituras = 10\n",
            "digite uma temperatura: 87\n",
            "media = 12.909090909090908, quantidade de leituras = 11\n",
            "digite uma temperatura: 148\n",
            "media = 24.166666666666668, quantidade de leituras = 12\n",
            "digite uma temperatura: 200\n",
            "media = 37.69230769230769, quantidade de leituras = 13\n",
            "digite uma temperatura: -273\n",
            "media = 15.5, quantidade de leituras = 14\n"
          ]
        }
      ]
    },
    {
      "cell_type": "markdown",
      "source": [
        "#### Questão 5\n",
        "Escreva um programa que calcule o fatorial de um número inteiro fornecido pela pessoa usuária. O fatorial de um número inteiro é a multiplicação desse número por todos os seus antecessores até o número 1. Por exemplo, o fatorial de 5 é 5 x 4 x 3 x 2 x 1 = 120."
      ],
      "metadata": {
        "id": "IjkbAfGcJRdS"
      }
    },
    {
      "cell_type": "code",
      "source": [
        "numero = int(input('digite um numero para cálculo de fatorial: '))\n",
        "contador = numero\n",
        "fatorial = 1\n",
        "\n",
        "for contador in range(contador, 0, -1):\n",
        "  fatorial = contador * fatorial\n",
        "print(f'fatorial de {numero} é {fatorial}')"
      ],
      "metadata": {
        "id": "7RTH8o0HJRdS",
        "colab": {
          "base_uri": "https://localhost:8080/"
        },
        "outputId": "2eeda7c7-0f10-4f23-e2c3-b1af5eaa97a2"
      },
      "execution_count": null,
      "outputs": [
        {
          "output_type": "stream",
          "name": "stdout",
          "text": [
            "digite um numero para cálculo de fatorial: 10\n",
            "fatorial de 10 é 3628800\n"
          ]
        }
      ]
    },
    {
      "cell_type": "markdown",
      "source": [
        "### Momento dos projetos3"
      ],
      "metadata": {
        "id": "oGNKuQjsJRdT"
      }
    },
    {
      "cell_type": "markdown",
      "source": [
        "#### Questão 6\n",
        "Escreva um programa que gere a tabuada de um número inteiro de 1 a 10, de acordo com a escolha da pessoa usuária. Como exemplo, para o número 2, a tabuada deve ser mostrada no seguinte formato:\n",
        "```\n",
        "Tabuada do 2:\n",
        "2 x 1 = 2\n",
        "2 x 2 = 4\n",
        "[...]\n",
        "2 x 10 = 20\n",
        "```"
      ],
      "metadata": {
        "id": "ODxaTUYmJRdS"
      }
    },
    {
      "cell_type": "code",
      "source": [
        "numero = int(input('digite um numero para ver a tabuada: '))\n",
        "\n",
        "contador = 1\n",
        "resultado = 1\n",
        "\n",
        "for contador in range(1, 11, 1):\n",
        "  resultado = numero * contador\n",
        "  print(f'{numero} x {contador} = {resultado}')"
      ],
      "metadata": {
        "id": "lkTlbxPIJRdS",
        "colab": {
          "base_uri": "https://localhost:8080/"
        },
        "outputId": "da196392-61db-4884-c8f0-a1b79389ef85"
      },
      "execution_count": null,
      "outputs": [
        {
          "output_type": "stream",
          "name": "stdout",
          "text": [
            "digite um numero para ver a tabuada: 2\n",
            "2 x 1 = 2\n",
            "2 x 2 = 4\n",
            "2 x 3 = 6\n",
            "2 x 4 = 8\n",
            "2 x 5 = 10\n",
            "2 x 6 = 12\n",
            "2 x 7 = 14\n",
            "2 x 8 = 16\n",
            "2 x 9 = 18\n",
            "2 x 10 = 20\n"
          ]
        }
      ]
    },
    {
      "cell_type": "markdown",
      "source": [
        "#### Questão 7\n",
        "Os números primos possuem várias aplicações dentro da Ciência de Dados, por exemplo, na criptografia e segurança. Um número primo é aquele que é divisível apenas por um e por ele mesmo. Faça um programa que peça um número inteiro e determine se ele é ou não um número primo."
      ],
      "metadata": {
        "id": "LeIbnt8VJRdS"
      }
    },
    {
      "cell_type": "code",
      "source": [
        "numero = int(input('Digite um número inteiro positivo: '))\n",
        "\n",
        "if numero > 1:\n",
        "    for i in range(2, numero):\n",
        "        if (numero % i) == 0:\n",
        "            print(f'{numero} não é um número primo.')\n",
        "            break\n",
        "    else:\n",
        "        print(f'{numero} é um número primo.')\n",
        "else:\n",
        "    print(f'{numero} não é um número primo.')\n"
      ],
      "metadata": {
        "id": "2rcNU7twJRdS",
        "colab": {
          "base_uri": "https://localhost:8080/"
        },
        "outputId": "e5d3cd5f-1bfb-419f-b6c2-4db813840111"
      },
      "execution_count": null,
      "outputs": [
        {
          "output_type": "stream",
          "name": "stdout",
          "text": [
            "Digite um número inteiro positivo: 10\n",
            "10 não é um número primo.\n"
          ]
        }
      ]
    },
    {
      "cell_type": "markdown",
      "source": [
        "#### Questão 8\n",
        "Vamos entender a distribuição de idades de pensionistas de uma empresa de previdência. Escreva um programa que leia as idades de uma quantidade não informada de clientes e mostre a distribuição em intervalos de [0-25], [26-50], [51-75] e [76-100]. Encerre a entrada de dados com um número negativo."
      ],
      "metadata": {
        "id": "QTwb6QaCJRdT"
      }
    },
    {
      "cell_type": "code",
      "source": [
        "# digitando a idade\n",
        "print('para finalizar a execução do programa, digite -1')\n",
        "\n",
        "# definindo variáveis de contagem por faixa de idade\n",
        "idade = 0\n",
        "v_0_25 = 0\n",
        "v_26_50 = 0\n",
        "v_51_75 = 0\n",
        "v_76_100 = 0\n",
        "\n",
        "# executando o programa principal\n",
        "\n",
        "while idade != -1 :\n",
        "  idade = int(input('\\ndigite a idade do pensionista: '))\n",
        "\n",
        "  if 0 < idade <= 25:\n",
        "    v_0_25 = v_0_25 + 1\n",
        "    print(f'\\n 0 a 25 anos: {v_0_25} pensionistas')\n",
        "    print(f'26 a 50 anos: {v_26_50} pensionistas')\n",
        "    print(f'51 a 75 anos: {v_51_75} pensionistas')\n",
        "    print(f'76 a 100 anos: {v_76_100} pensionistas')\n",
        "\n",
        "  elif 26 < idade <= 50:\n",
        "    v_26_50 = v_26_50 + 1\n",
        "    print(f'\\n 0 a 25 anos: {v_0_25} pensionistas')\n",
        "    print(f'26 a 50 anos: {v_26_50} pensionistas')\n",
        "    print(f'51 a 75 anos: {v_51_75} pensionistas')\n",
        "    print(f'76 a 100 anos: {v_76_100} pensionistas')\n",
        "\n",
        "  elif 51 < idade <= 75:\n",
        "    v_51_75 = v_51_75 + 1\n",
        "    print(f'\\n 0 a 25 anos: {v_0_25} pensionistas')\n",
        "    print(f'26 a 50 anos: {v_26_50} pensionistas')\n",
        "    print(f'51 a 75 anos: {v_51_75} pensionistas')\n",
        "    print(f'76 a 100 anos: {v_76_100} pensionistas')\n",
        "\n",
        "  elif 76 < idade <= 100:\n",
        "    v_76_100 = v_76_100 + 1\n",
        "    print(f'\\n 0 a 25 anos: {v_0_25} pensionistas')\n",
        "    print(f'26 a 50 anos: {v_26_50} pensionistas')\n",
        "    print(f'51 a 75 anos: {v_51_75} pensionistas')\n",
        "    print(f'76 a 100 anos: {v_76_100} pensionistas')\n",
        "\n",
        "  elif idade > 100:\n",
        "    print(f'\\ncom {idade}, você já está fazendo hora extra na Terra. ')\n",
        "\n",
        "  else:\n",
        "    print('finalizando o programa')"
      ],
      "metadata": {
        "id": "4IAhaDmYJRdT",
        "colab": {
          "base_uri": "https://localhost:8080/"
        },
        "outputId": "6794cf34-668d-4709-fe44-33052a877574"
      },
      "execution_count": null,
      "outputs": [
        {
          "output_type": "stream",
          "name": "stdout",
          "text": [
            "para finalizar a execução do programa, digite -1\n",
            "\n",
            "digite a idade do pensionista: -1\n",
            "finalizando o programa\n"
          ]
        }
      ]
    },
    {
      "cell_type": "markdown",
      "source": [
        "#### Questão 9\n",
        "Em uma eleição para gerência em uma empresa com 20 funcionários, existem quatro candidatos. Escreva um programa que calcule o vencedor da eleição. A votação ocorreu da seguinte maneira:\n",
        "- Cada funcionário votou em um dos quatro candidatos (representados pelos números 1, 2, 3 e 4).\n",
        "- Também foram contabilizados os votos nulos (representado pelo número 5) e os votos em branco (representado pelo número 6).\n",
        "\n",
        "Ao final da votação, o programa deve exibir o total de votos para cada candidato, o número de votos nulos e o número de votos em branco. Além disso, deve calcular e exibir a porcentagem de votos nulos em relação ao total de votos e a porcentagem de votos em branco em relação ao total de votos."
      ],
      "metadata": {
        "id": "soJCQVwRJRdT"
      }
    },
    {
      "cell_type": "code",
      "source": [
        "# declaracao das variaveis\n",
        "funcionarios = 20\n",
        "contador = 0\n",
        "candidato_1 = 0\n",
        "candidato_2 = 0\n",
        "candidato_3 = 0\n",
        "candidato_4 = 0\n",
        "voto_nulo = 0\n",
        "voto_branco = 0\n",
        "\n",
        "print('digite 1 para candidato 1\\ndigite 2 para candidato 2\\ndigite 3 para candidato 3\\ndigite 4 para candidato 4\\ndigite 5 para votar nulo\\ndigite 6 para votar em branco\\n')\n",
        "\n",
        "for contador in range (1, funcionarios+1):\n",
        "  voto = int(input(f'funcionario {contador} selecione o seu voto: '))\n",
        "\n",
        "  if voto == 1:\n",
        "    candidato_1 = candidato_1 + 1\n",
        "  elif voto == 2:\n",
        "    candidato_2 = candidato_2 + 1\n",
        "  elif voto == 3:\n",
        "    candidato_3 = candidato_3 + 1\n",
        "  elif voto == 4:\n",
        "    candidato_4 = candidato_4 + 1\n",
        "  elif voto == 5:\n",
        "    voto_nulo = voto_nulo + 1\n",
        "  elif voto == 6:\n",
        "    voto_branco = voto_branco + 1\n",
        "  else:\n",
        "    print('voce digitou um valor invalido')\n",
        "\n",
        "# definicao dos calculos\n",
        "total_de_votos = candidato_1 + candidato_2 + candidato_3 + candidato_4 + voto_nulo + voto_branco\n",
        "porcentagem_nulo = float((voto_nulo/total_de_votos)*100)\n",
        "porcentagem_branco = float((voto_branco/total_de_votos)*100)\n",
        "\n",
        "print('\\n')\n",
        "print(f'total de votos computados: {total_de_votos} votos')\n",
        "print(f'candidato 1 recebeu {candidato_1} votos')\n",
        "print(f'candidato 2 recebeu {candidato_2} votos')\n",
        "print(f'candidato 3 recebeu {candidato_3} votos')\n",
        "print(f'candidato 4 recebeu {candidato_4} votos')\n",
        "print(f'\\nvotos brancos: {voto_branco} votos ({porcentagem_branco} %)')\n",
        "print(f'votos nulos: {voto_nulo} votos ({porcentagem_nulo} %)')"
      ],
      "metadata": {
        "id": "041EFrgG-4gR",
        "colab": {
          "base_uri": "https://localhost:8080/"
        },
        "outputId": "39be675c-c5ed-4884-9377-52d1c0b95f05"
      },
      "execution_count": null,
      "outputs": [
        {
          "output_type": "stream",
          "name": "stdout",
          "text": [
            "digite 1 para candidato 1\n",
            "digite 2 para candidato 2\n",
            "digite 3 para candidato 3\n",
            "digite 4 para candidato 4\n",
            "digite 5 para votar nulo\n",
            "digite 6 para votar em branco\n",
            "\n",
            "funcionario 1 selecione o seu voto: 1\n",
            "funcionario 2 selecione o seu voto: 3\n",
            "funcionario 3 selecione o seu voto: 1\n",
            "funcionario 4 selecione o seu voto: 3\n",
            "funcionario 5 selecione o seu voto: 3\n",
            "funcionario 6 selecione o seu voto: 4\n",
            "funcionario 7 selecione o seu voto: 5\n",
            "funcionario 8 selecione o seu voto: 6\n",
            "funcionario 9 selecione o seu voto: 2\n",
            "funcionario 10 selecione o seu voto: 3\n",
            "funcionario 11 selecione o seu voto: 4\n",
            "funcionario 12 selecione o seu voto: 1\n",
            "funcionario 13 selecione o seu voto: 1\n",
            "funcionario 14 selecione o seu voto: 1\n",
            "funcionario 15 selecione o seu voto: 2\n",
            "funcionario 16 selecione o seu voto: 3\n",
            "funcionario 17 selecione o seu voto: 4\n",
            "funcionario 18 selecione o seu voto: 5\n",
            "funcionario 19 selecione o seu voto: 1\n",
            "funcionario 20 selecione o seu voto: 2\n",
            "\n",
            "\n",
            "total de votos computados: 20 votos\n",
            "candidato 1 recebeu 6 votos\n",
            "candidato 2 recebeu 3 votos\n",
            "candidato 3 recebeu 5 votos\n",
            "candidato 4 recebeu 3 votos\n",
            "\n",
            "votos brancos: 1 votos (5.0 %)\n",
            "votos nulos: 2 votos (10.0 %)\n"
          ]
        }
      ]
    },
    {
      "cell_type": "markdown",
      "source": [
        "## Aula 5 - Estruturas de dados"
      ],
      "metadata": {
        "id": "eijHQiNU2IZ7"
      }
    },
    {
      "cell_type": "markdown",
      "source": [
        "### Aquecendo na programação"
      ],
      "metadata": {
        "id": "92F0bKtBMgd7"
      }
    },
    {
      "cell_type": "markdown",
      "source": [
        "#### Questão 1\n",
        "Faça um programa que tenha a seguinte lista contendo os valores de gastos de uma empresa de papel `[2172.54, 3701.35, 3518.09, 3456.61, 3249.38, 2840.82, 3891.45, 3075.26, 2317.64, 3219.08]`. Com esses valores, faça um programa que calcule a média de gastos. Dica, use as funções built-in [`sum()`](https://docs.python.org/3/library/functions.html#sum) e [`len()`](https://docs.python.org/3/library/functions.html#len)."
      ],
      "metadata": {
        "id": "IypX2ANuMgeC"
      }
    },
    {
      "cell_type": "code",
      "source": [
        "lista = [2172.54, 3701.35, 3518.09, 3456.61, 3249.38, 2840.82, 3891.45, 3075.26, 2317.64, 3219.08]\n",
        "\n",
        "soma_gastos = sum(lista)\n",
        "\n",
        "total_itens = len(lista)\n",
        "\n",
        "media = soma_gastos/total_itens\n",
        "\n",
        "print(f'soma dos gastos: {soma_gastos}')\n",
        "print(f'total de itens: {total_itens}')\n",
        "print(f'media de gasto: {media}')"
      ],
      "metadata": {
        "id": "ge3LuFhLMgeD",
        "colab": {
          "base_uri": "https://localhost:8080/"
        },
        "outputId": "3ef7855a-770f-4ec7-a1f1-9ec118b567ff"
      },
      "execution_count": null,
      "outputs": [
        {
          "output_type": "stream",
          "name": "stdout",
          "text": [
            "soma dos gastos: 31442.22\n",
            "total de itens: 10\n",
            "media de gasto: 3144.222\n"
          ]
        }
      ]
    },
    {
      "cell_type": "markdown",
      "source": [
        "#### Questão 2\n",
        " Com os mesmos dados da questão anterior, defina quantas compras foram acima de 3000 reais e calcule a porcentagem quanto ao total de compras."
      ],
      "metadata": {
        "id": "xrOeLhQkMgeD"
      }
    },
    {
      "cell_type": "code",
      "source": [
        "# declarando os elementos\n",
        "lista = [2172.54, 3701.35, 3518.09, 3456.61, 3249.38, 2840.82, 3891.45, 3075.26, 2317.64, 3219.08]\n",
        "contador = 0\n",
        "quantidade = len(lista) # definindo quantidade\n",
        "\n",
        "for elemento in lista:\n",
        "\n",
        "  if elemento > 3000:\n",
        "    contador = contador + 1\n",
        "  else:\n",
        "    contador = contador\n",
        "\n",
        "percentual = (contador/quantidade)*100\n",
        "print(f'foram efetuadas {contador} compras acima de 3000, totalizando {percentual}% das compras')"
      ],
      "metadata": {
        "id": "Ygu5TMZyMgeD",
        "colab": {
          "base_uri": "https://localhost:8080/"
        },
        "outputId": "7e6b7e9c-8a01-452f-9ed2-a0642c5bef4e"
      },
      "execution_count": null,
      "outputs": [
        {
          "output_type": "stream",
          "name": "stdout",
          "text": [
            "foram efetuadas 7 compras acima de 3000, totalizando 70.0% das compras\n"
          ]
        }
      ]
    },
    {
      "cell_type": "markdown",
      "source": [
        "#### Questão 3\n",
        "Faça um código que colete em uma lista 5 números inteiros quaisquer e imprima a lista. Exemplo: `[1,4,7,2,4]`."
      ],
      "metadata": {
        "id": "JgCOrE_BMgeD"
      }
    },
    {
      "cell_type": "code",
      "source": [
        "# iniciando uma lista vazia\n",
        "lista = []\n",
        "\n",
        "i = 1\n",
        "\n",
        "for i in range(i,6):\n",
        "  valor = int(input('digite um numero inteiro: '))\n",
        "  lista.append(valor)\n",
        "print('\\n')\n",
        "lista"
      ],
      "metadata": {
        "id": "vtM9O1hLMgeD",
        "colab": {
          "base_uri": "https://localhost:8080/"
        },
        "outputId": "af888fbb-bb6b-4c40-d42e-0c10446bbea5"
      },
      "execution_count": null,
      "outputs": [
        {
          "output_type": "stream",
          "name": "stdout",
          "text": [
            "digite um numero inteiro: 1\n",
            "digite um numero inteiro: 4\n",
            "digite um numero inteiro: 7\n",
            "digite um numero inteiro: 2\n",
            "digite um numero inteiro: 4\n",
            "\n",
            "\n"
          ]
        },
        {
          "output_type": "execute_result",
          "data": {
            "text/plain": [
              "[1, 4, 7, 2, 4]"
            ]
          },
          "metadata": {},
          "execution_count": 21
        }
      ]
    },
    {
      "cell_type": "markdown",
      "source": [
        "#### Questão 4\n",
        "Colete novamente 5 inteiros e imprima a lista em ordem inversa à enviada."
      ],
      "metadata": {
        "id": "p3bTp88HMgeD"
      }
    },
    {
      "cell_type": "code",
      "source": [
        "# iniciando uma lista vazia\n",
        "lista = []\n",
        "\n",
        "i = 1\n",
        "\n",
        "for i in range(i,6):\n",
        "  valor = int(input('digite um numero inteiro: '))\n",
        "  lista.append(valor)\n",
        "\n",
        "lista.reverse()\n",
        "print('\\n')\n",
        "lista"
      ],
      "metadata": {
        "id": "-CGwMIyHMgeD",
        "colab": {
          "base_uri": "https://localhost:8080/"
        },
        "outputId": "69036afc-1e93-4213-bbaf-ba1acf10a248"
      },
      "execution_count": null,
      "outputs": [
        {
          "output_type": "stream",
          "name": "stdout",
          "text": [
            "digite um numero inteiro: 1\n",
            "digite um numero inteiro: 4\n",
            "digite um numero inteiro: 7\n",
            "digite um numero inteiro: 2\n",
            "digite um numero inteiro: 4\n",
            "\n",
            "\n"
          ]
        },
        {
          "output_type": "execute_result",
          "data": {
            "text/plain": [
              "[4, 2, 7, 4, 1]"
            ]
          },
          "metadata": {},
          "execution_count": 25
        }
      ]
    },
    {
      "cell_type": "markdown",
      "source": [
        "#### Questão 5\n",
        "Faça um programa que, ao inserir um número qualquer, criará uma lista contendo todos os números primos entre 1 e o número digitado."
      ],
      "metadata": {
        "id": "eIXd_z1lMgeD"
      }
    },
    {
      "cell_type": "code",
      "source": [
        "numero = int(input(\"Digite um número inteiro positivo: \"))\n",
        "\n",
        "if numero < 1:\n",
        "  print(\"Por favor, insira um número maior que 0.\")\n",
        "else:\n",
        "  primos = []\n",
        "  for num in range(2, numero + 1):\n",
        "    is_prime = True\n",
        "    for i in range(2, int(num**0.5) + 1):\n",
        "     if num % i == 0:\n",
        "        is_prime = False\n",
        "        break\n",
        "\n",
        "    if is_prime:\n",
        "      primos.append(num)\n",
        "\n",
        "  print(f\"Números primos entre 1 e {numero}:\")\n",
        "  print(primos)"
      ],
      "metadata": {
        "colab": {
          "base_uri": "https://localhost:8080/"
        },
        "id": "ENB8imNKY5hU",
        "outputId": "cef9008f-29ad-47cf-8f8e-57639de8473c"
      },
      "execution_count": null,
      "outputs": [
        {
          "output_type": "stream",
          "name": "stdout",
          "text": [
            "Digite um número inteiro positivo: 37\n",
            "Números primos entre 1 e 37:\n",
            "[2, 3, 5, 7, 11, 13, 17, 19, 23, 29, 31, 37]\n"
          ]
        }
      ]
    },
    {
      "cell_type": "markdown",
      "source": [
        "#### Questão 6\n",
        "Escreva um programa que peça uma data informando o dia, mês e ano e determine se ela é uma data válida para uma análise."
      ],
      "metadata": {
        "id": "zrbz3ENlMgeE"
      }
    },
    {
      "cell_type": "code",
      "source": [
        "dia = int(input(\"Digite o dia (1 a 31): \"))\n",
        "mes = int(input(\"Digite o mês (1 a 12): \"))\n",
        "ano = int(input(\"Digite o ano: \"))\n",
        "\n",
        "# Verifica meses com 31 dias\n",
        "if mes in [1, 3, 5, 7, 8, 10, 12]:\n",
        "  if 1 <= dia <= 31:\n",
        "    print(\"Data válida.\")\n",
        "  else:\n",
        "    print(\"Data inválida.\")\n",
        "\n",
        "# Verifica meses com 30 dias\n",
        "elif mes in [4, 6, 9, 11]:\n",
        "  if 1 <= dia <= 30:\n",
        "    print(\"Data válida.\")\n",
        "  else:\n",
        "    print(\"Data inválida.\")\n",
        "\n",
        "# Verifica fevereiro (mês 2)\n",
        "elif mes == 2:\n",
        "  if (ano % 4 == 0 and ano % 100 != 0) or (ano % 400 == 0):\n",
        "    if 1 <= dia <= 29:\n",
        "      print(\"Data válida.\")\n",
        "    else:\n",
        "      print(\"Data inválida.\")\n",
        "  else:\n",
        "    if 1 <= dia <= 28:\n",
        "      print(\"Data válida.\")\n",
        "    else:\n",
        "      print(\"Data inválida.\")\n",
        "\n",
        "else:\n",
        "  print(\"Mês inválido. Digite um valor entre 1 e 12.\")"
      ],
      "metadata": {
        "id": "0eYA8UjTMgeE",
        "colab": {
          "base_uri": "https://localhost:8080/"
        },
        "outputId": "4ea73e8c-a6c6-4b45-f786-fc787c28805a"
      },
      "execution_count": null,
      "outputs": [
        {
          "output_type": "stream",
          "name": "stdout",
          "text": [
            "Digite o dia (1 a 31): 32\n",
            "Digite o mês (1 a 12): 02\n",
            "Digite o ano: 1972\n",
            "Data inválida.\n"
          ]
        }
      ]
    },
    {
      "cell_type": "markdown",
      "source": [
        "### Momento dos projetos"
      ],
      "metadata": {
        "id": "ut_4VHdGMgeE"
      }
    },
    {
      "cell_type": "markdown",
      "source": [
        "#### Questão 7\n",
        "Para um estudo envolvendo o nível de multiplicação de bactérias em uma colônia, foi coletado o número de bactérias multiplicadas por dia, com base em um processo de duplicação diária e pode ser observado a seguir: `[1.2, 2.1, 3.3, 5.0, 7.8, 11.3, 16.6, 25.1, 37.8, 56.9]`. Tendo esses valores, faça um código que gere uma lista contendo o percentual de crescimento de bactérias por dia, comparando o número de bactérias em cada dia com o número de bactérias do dia anterior. Dica: para calcular o percentual de crescimento usamos a seguinte equação: `100 * (amostra_atual - amostra_passada) / (amostra_passada)`."
      ],
      "metadata": {
        "id": "G86Z0vD_MgeE"
      }
    },
    {
      "cell_type": "code",
      "source": [
        "bacterias = [1.2, 2.1, 3.3, 5.0, 7.8, 11.3, 16.6, 25.1, 37.8, 56.9]\n",
        "lista_crescimento = []\n",
        "\n",
        "for i in range(len(bacterias) - 1):\n",
        "    amostra_passada = bacterias[i]\n",
        "    amostra_atual = bacterias[i + 1]\n",
        "    crescimento = 100 * (amostra_atual - amostra_passada) / amostra_passada\n",
        "    lista_crescimento.append(crescimento)\n",
        "\n",
        "print(\"Lista de crescimento percentual entre amostras:\")\n",
        "print(lista_crescimento)"
      ],
      "metadata": {
        "id": "PXNO_CFkMgeE",
        "colab": {
          "base_uri": "https://localhost:8080/"
        },
        "outputId": "9d441732-aad6-4ad3-acd6-89aa26a3703c"
      },
      "execution_count": null,
      "outputs": [
        {
          "output_type": "stream",
          "name": "stdout",
          "text": [
            "Lista de crescimento percentual entre amostras:\n",
            "[75.00000000000001, 57.142857142857125, 51.51515151515153, 56.0, 44.87179487179489, 46.90265486725664, 51.20481927710843, 50.59760956175297, 50.52910052910054]\n"
          ]
        }
      ]
    },
    {
      "cell_type": "markdown",
      "source": [
        "\n",
        "#### Questão 8\n",
        "Para uma seleção de produtos alimentícios, precisamos separar o conjunto de IDs dados por números inteiros, sabendo que os produtos com ID par são doces e os com ID ímpar são amargos. Monte um código que colete 10 IDs. Depois, calcule e mostre a quantidade de produtos doces e amargos."
      ],
      "metadata": {
        "id": "p4nxogpnMgeE"
      }
    },
    {
      "cell_type": "code",
      "source": [
        "doces = 0\n",
        "amargos = 0\n",
        "\n",
        "for i in range(1,11):\n",
        "  id = int(input(f'digite um id valido (maior que 0) para o {i} produto: '))\n",
        "\n",
        "  if id % 2 == 0:\n",
        "    doces = doces + 1\n",
        "  elif id % 2 == 1:\n",
        "    amargos = amargos + 1\n",
        "  else:\n",
        "    print('produto incorreto')\n",
        "\n",
        "print('\\n')\n",
        "print(f'doces: {doces}')\n",
        "print(f'amargos: {amargos}')"
      ],
      "metadata": {
        "id": "WqjO2SZkMgeE",
        "colab": {
          "base_uri": "https://localhost:8080/"
        },
        "outputId": "51359304-d529-4d3b-be12-63e9837d8400"
      },
      "execution_count": null,
      "outputs": [
        {
          "output_type": "stream",
          "name": "stdout",
          "text": [
            "digite um id valido (maior que 0) para o 1 produto: 1\n",
            "digite um id valido (maior que 0) para o 2 produto: 1\n",
            "digite um id valido (maior que 0) para o 3 produto: 1\n",
            "digite um id valido (maior que 0) para o 4 produto: 1\n",
            "digite um id valido (maior que 0) para o 5 produto: 1\n",
            "digite um id valido (maior que 0) para o 6 produto: 1\n",
            "digite um id valido (maior que 0) para o 7 produto: 1\n",
            "digite um id valido (maior que 0) para o 8 produto: 1\n",
            "digite um id valido (maior que 0) para o 9 produto: 2\n",
            "digite um id valido (maior que 0) para o 10 produto: 2\n",
            "\n",
            "\n",
            "doces: 2\n",
            "amargos: 8\n"
          ]
        }
      ]
    },
    {
      "cell_type": "markdown",
      "source": [
        "#### Questão 9\n",
        "Desenvolva um programa que informa a nota de um aluno de acordo com suas respostas. Ele deve pedir a resposta de um aluno para cada questão e é preciso verificar se a resposta foi igual ao gabarito. Cada questão vale um ponto e existem alternativas:  A, B, C ou D.\n",
        "```\n",
        "Gabarito da Prova:\n",
        "01 - D\n",
        "02 - A\n",
        "03 - C\n",
        "04 - B\n",
        "05 - A\n",
        "06 - D\n",
        "07 - C\n",
        "08 - C\n",
        "09 - A\n",
        "10 - B\n",
        "```"
      ],
      "metadata": {
        "id": "t5OrLxV6MgeE"
      }
    },
    {
      "cell_type": "code",
      "source": [
        "acertos = 0\n",
        "erros = 0\n",
        "\n",
        "respostas = []\n",
        "gabarito = {'q1':'d',\n",
        "            'q2':'a',\n",
        "            'q3':'c',\n",
        "            'q4':'b',\n",
        "            'q5':'a',\n",
        "            'q6':'d',\n",
        "            'q7':'c',\n",
        "            'q8':'c',\n",
        "            'q9':'a',\n",
        "            'q10':'b'}\n",
        "\n",
        "\n",
        "for i in range (1, 11):\n",
        "  resposta = str(input(f'digite a resposta da questão {i}: '))\n",
        "  resposta = resposta.strip().lower()\n",
        "  respostas.append(resposta)\n",
        "\n",
        "# checando pergunta 1\n",
        "if respostas[0] == gabarito['q1']:\n",
        "  acertos = acertos + 1\n",
        "  print(f'aluno acertou a pergunta 1, resposta d')\n",
        "else:\n",
        "  erros = erros + 1\n",
        "  print(f'aluno não acertou a pergunta 1, respondido {respostas[0]} e resposta correta: d')\n",
        "\n",
        "# checando pergunta 2\n",
        "if respostas[1] == gabarito['q2']:\n",
        "  acertos = acertos + 1\n",
        "  print(f'aluno acertou a pergunta 2, resposta a')\n",
        "else:\n",
        "  erros = erros + 1\n",
        "  print(f'aluno não acertou a pergunta 1, respondido {respostas[1]} e resposta correta: a')\n",
        "\n",
        "# checando pergunta 3\n",
        "if respostas[2] == gabarito['q3']:\n",
        "  acertos = acertos + 1\n",
        "  print(f'aluno acertou a pergunta 3, resposta c')\n",
        "else:\n",
        "  erros = erros + 1\n",
        "  print(f'aluno não acertou a pergunta 3, respondido {respostas[2]} e resposta correta: c')\n",
        "\n",
        "# checando pergunta 4\n",
        "if respostas[3] == gabarito['q4']:\n",
        "  acertos = acertos + 1\n",
        "  print(f'aluno acertou a pergunta 4, resposta b')\n",
        "else:\n",
        "  erros = erros + 1\n",
        "  print(f'aluno não acertou a pergunta 4, respondido {respostas[3]} e resposta correta: b')\n",
        "\n",
        "# checando pergunta 5\n",
        "if respostas[4] == gabarito['q5']:\n",
        "  acertos = acertos + 1\n",
        "  print(f'aluno acertou a pergunta 5, resposta a')\n",
        "else:\n",
        "  erros = erros + 1\n",
        "  print(f'aluno não acertou a pergunta 5, respondido {respostas[4]} e resposta correta: a')\n",
        "\n",
        "# checando pergunta 6\n",
        "if respostas[5] == gabarito['q6']:\n",
        "  acertos = acertos + 1\n",
        "  print(f'aluno acertou a pergunta 6, resposta d')\n",
        "else:\n",
        "  erros = erros + 1\n",
        "  print(f'aluno não acertou a pergunta 6, respondido {respostas[5]} e resposta correta: d')\n",
        "\n",
        "# checando pergunta 7\n",
        "if respostas[6] == gabarito['q7']:\n",
        "  acertos = acertos + 1\n",
        "  print(f'aluno acertou a pergunta 7, resposta c')\n",
        "else:\n",
        "  erros = erros + 1\n",
        "  print(f'aluno não acertou a pergunta 7, respondido {respostas[6]} e resposta correta: c')\n",
        "\n",
        "# checando pergunta 8\n",
        "if respostas[7] == gabarito['q8']:\n",
        "  acertos = acertos + 1\n",
        "  print(f'aluno acertou a pergunta 8, resposta c')\n",
        "else:\n",
        "  erros = erros + 1\n",
        "  print(f'aluno não acertou a pergunta 8, respondido {respostas[7]} e resposta correta: c')\n",
        "\n",
        "# checando pergunta 9\n",
        "if respostas[8] == gabarito['q9']:\n",
        "  acertos = acertos + 1\n",
        "  print(f'aluno acertou a pergunta 9, resposta a')\n",
        "else:\n",
        "  erros = erros + 1\n",
        "  print(f'aluno não acertou a pergunta 9, respondido {respostas[8]} e resposta correta: a')\n",
        "\n",
        "# checando pergunta 10\n",
        "if respostas[9] == gabarito['q10']:\n",
        "  acertos = acertos + 1\n",
        "  print(f'aluno acertou a pergunta 10, resposta b')\n",
        "else:\n",
        "  erros = erros + 1\n",
        "  print(f'aluno não acertou a pergunta 10, respondido {respostas[9]} e resposta correta: b')\n",
        "\n",
        "print('\\n')\n",
        "print(f'acertos: {acertos}')\n",
        "print(f'erros: {erros}\\n')\n",
        "#print(gabarito.values())\n",
        "print(respostas)"
      ],
      "metadata": {
        "id": "ytIQDJrQMgeE",
        "colab": {
          "base_uri": "https://localhost:8080/"
        },
        "outputId": "e92c1195-c5ae-4ce5-b90c-e22c8a3b2d12"
      },
      "execution_count": null,
      "outputs": [
        {
          "output_type": "stream",
          "name": "stdout",
          "text": [
            "digite a resposta da questão 1: d\n",
            "digite a resposta da questão 2: a\n",
            "digite a resposta da questão 3: c\n",
            "digite a resposta da questão 4: b\n",
            "digite a resposta da questão 5: a\n",
            "digite a resposta da questão 6: d\n",
            "digite a resposta da questão 7: c\n",
            "digite a resposta da questão 8: c\n",
            "digite a resposta da questão 9: a\n",
            "digite a resposta da questão 10: b\n",
            "aluno acertou a pergunta 1, resposta d\n",
            "aluno acertou a pergunta 2, resposta a\n",
            "aluno acertou a pergunta 3, resposta c\n",
            "aluno acertou a pergunta 4, resposta b\n",
            "aluno acertou a pergunta 5, resposta a\n",
            "aluno acertou a pergunta 6, resposta d\n",
            "aluno acertou a pergunta 7, resposta c\n",
            "aluno acertou a pergunta 8, resposta c\n",
            "aluno acertou a pergunta 9, resposta a\n",
            "aluno acertou a pergunta 10, resposta b\n",
            "\n",
            "\n",
            "acertos: 10\n",
            "erros: 0\n",
            "\n",
            "['d', 'a', 'c', 'b', 'a', 'd', 'c', 'c', 'a', 'b']\n"
          ]
        }
      ]
    },
    {
      "cell_type": "markdown",
      "source": [
        "#### Questão 10\n",
        "Um instituto de meteorologia deseja fazer um estudo de temperatura média de cada mês do ano. Para isso, você precisa fazer um código que colete e armazene essas temperaturas médias em uma lista. Depois, calcule a média anual das temperaturas e mostre todas as temperaturas acima da média anual, e em que mês elas ocorreram, mostrando os meses por extenso: Janeiro, Fevereiro, etc."
      ],
      "metadata": {
        "id": "aSBMzh-AMgeF"
      }
    },
    {
      "cell_type": "code",
      "source": [
        "temperatura = 0.0\n",
        "media = 0.0\n",
        "registro = []\n",
        "mes = ['janeiro', 'fevereiro', 'março', 'abril', 'maio', 'junho', 'julho', 'agosto', 'setembro', 'outubro', 'novembro', 'dezembro']\n",
        "\n",
        "for i in range (0,12):\n",
        "  temperatura = float(input(f'digite a temperatura media do mês {mes[i]}: '))\n",
        "  registro.append(temperatura)\n",
        "\n",
        "media = sum(registro)/12\n",
        "\n",
        "for i in range (0,12):\n",
        "  if registro[i] > media:\n",
        "    print(f'temperatura do mês de {mes[i]} foi de {registro[i]}, maior que a média {media}.')\n",
        "  else:\n",
        "    pass"
      ],
      "metadata": {
        "id": "ftj04s2uMgeF",
        "colab": {
          "base_uri": "https://localhost:8080/"
        },
        "outputId": "75b131b6-a512-4fe1-ee83-30e9b9039511"
      },
      "execution_count": 25,
      "outputs": [
        {
          "output_type": "stream",
          "name": "stdout",
          "text": [
            "digite a temperatura media do mês janeiro: 3.4\n",
            "digite a temperatura media do mês fevereiro: 4.7\n",
            "digite a temperatura media do mês março: 8.9\n",
            "digite a temperatura media do mês abril: 1.2\n",
            "digite a temperatura media do mês maio: 3.6\n",
            "digite a temperatura media do mês junho: 5.7\n",
            "digite a temperatura media do mês julho: 4.8\n",
            "digite a temperatura media do mês agosto: 12.3\n",
            "digite a temperatura media do mês setembro: 13\n",
            "digite a temperatura media do mês outubro: 18.5\n",
            "digite a temperatura media do mês novembro: 9.2\n",
            "digite a temperatura media do mês dezembro: 10\n",
            "temperatura do mês de março foi de 8.9, maior que a média 7.941666666666666.\n",
            "temperatura do mês de agosto foi de 12.3, maior que a média 7.941666666666666.\n",
            "temperatura do mês de setembro foi de 13.0, maior que a média 7.941666666666666.\n",
            "temperatura do mês de outubro foi de 18.5, maior que a média 7.941666666666666.\n",
            "temperatura do mês de novembro foi de 9.2, maior que a média 7.941666666666666.\n",
            "temperatura do mês de dezembro foi de 10.0, maior que a média 7.941666666666666.\n"
          ]
        }
      ]
    },
    {
      "cell_type": "markdown",
      "source": [
        "#### Questão 11\n",
        "Uma empresa de e-commerce está interessada em analisar as vendas dos seus produtos. Os dados das vendas foram armazenados em um dicionário:\n",
        "```\n",
        "{'Produto A': 300, 'Produto B': 80, 'Produto C': 60,\n",
        " 'Produto D': 200, 'Produto E': 250, 'Produto F': 30}\n",
        "```\n",
        "Escreva um código que calcule o total de vendas e o produto mais vendido."
      ],
      "metadata": {
        "id": "0X8S6s4jMgeF"
      }
    },
    {
      "cell_type": "code",
      "source": [],
      "metadata": {
        "id": "Xa3DJLtFMgeF"
      },
      "execution_count": null,
      "outputs": []
    },
    {
      "cell_type": "markdown",
      "source": [
        "#### Questão 12\n",
        "Uma pesquisa de mercado foi feita para decidir qual design de uma marca infantil mais agrada crianças. A pesquisa foi feita e o votos computados podem ser observados abaixo:\n",
        "```\n",
        "'''\n",
        "Tabela de votos da marca\n",
        "Design 1 - 1334 votos\n",
        "Design 2 - 982 votos\n",
        "Design 3 - 1751 votos\n",
        "Design 4 - 210 votos\n",
        "Design 5 - 1811 votos\n",
        "'''\n",
        "```\n",
        "Adapte os dados fornecidos a você para uma estrutura de dicionário e a partir dele, informe o design vencedor e a porcentagem de votos recebidos.\n"
      ],
      "metadata": {
        "id": "nrEwf_1ZMgeF"
      }
    },
    {
      "cell_type": "code",
      "source": [],
      "metadata": {
        "id": "MRPcGR-_MgeF"
      },
      "execution_count": null,
      "outputs": []
    },
    {
      "cell_type": "markdown",
      "source": [
        "#### Questão 13\n",
        "Os funcionários de um setor da empresa que você trabalha vão receber um abono correspondente a 10% do seu salário devido ao ótimo desempenho do time. O setor financeiro solicitou sua ajuda para a verificação das consequências financeiras que esse abono irá gerar nos recursos. Assim, foi encaminhada para você uma lista com os salários que receberão o abono: `[1172, 1644, 2617, 5130, 5532, 6341, 6650, 7238, 7685, 7782, 7903]`. O abono de cada funcionário não pode ser inferior a 200. Em código, transforme cada um dos salários em chaves de um dicionário e o abono de cada salário no elemento. Depois, informe o total de gastos com o abono, quantos funcionários receberam o abono mínimo e qual o maior valor de abono fornecido.\n"
      ],
      "metadata": {
        "id": "HRTFFzKIMgeF"
      }
    },
    {
      "cell_type": "code",
      "source": [],
      "metadata": {
        "id": "QsDSCua42bLB"
      },
      "execution_count": null,
      "outputs": []
    },
    {
      "cell_type": "markdown",
      "source": [
        "#### Questão 14\n",
        "Uma equipe de cientistas de dados está estudando a diversidade biológica em uma floresta. A equipe fez a coleta de informações sobre o número de espécies de plantas e animais em cada área da floresta e armazenaram essas informações em um dicionário. Nele, a chave descreve a área dos dados e os valores nas listas correspondem às espécies de plantas e animais nas áreas, respectivamente.\n",
        "```\n",
        "{'Área Norte': [2819, 7236],\n",
        " 'Área Leste': [1440, 9492],\n",
        " 'Área Sul': [5969, 7496],\n",
        " 'Área Oeste': [14446, 49688],\n",
        " 'Área Centro': [22558, 45148]}\n",
        "```\n",
        "Escreva um código para calcular a média de espécies por área e identificar a área com a maior diversidade biológica. Dica: use as funções built-in [`sum()`](https://docs.python.org/3/library/functions.html#sum) e [`len()`](https://docs.python.org/3/library/functions.html#len).\n"
      ],
      "metadata": {
        "id": "6dEXZEwjMlWy"
      }
    },
    {
      "cell_type": "code",
      "source": [],
      "metadata": {
        "id": "eQnOUDfYMlWy"
      },
      "execution_count": null,
      "outputs": []
    },
    {
      "cell_type": "markdown",
      "source": [
        "#### Questão 15\n",
        "O setor de RH da sua empresa te pediu uma ajuda para analisar as idades dos funcionários de 4 setores da empresa. Para isso, ele te forneceu os seguintes dados:\n",
        "```\n",
        "{'Setor A': [22, 26, 30, 30, 35, 38, 40, 56, 57, 65],\n",
        " 'Setor B': [22, 24, 26, 33, 41, 49, 50, 54, 60, 64],\n",
        " 'Setor C': [23, 26, 26, 29, 34, 35, 36, 41, 52, 56],\n",
        " 'Setor D': [19, 20, 25, 27, 34, 39, 42, 44, 50, 65]}\n",
        "```\n",
        "Sabendo que cada setor tem 10 funcionários, construa um código que calcule a média de idade de cada setor, a idade média geral entre todos os setores e quantas pessoas estão acima da idade média geral.\n"
      ],
      "metadata": {
        "id": "r0RW2Sy_MlWy"
      }
    },
    {
      "cell_type": "code",
      "source": [],
      "metadata": {
        "id": "wCiwyKP3MmTz"
      },
      "execution_count": null,
      "outputs": []
    }
  ]
}